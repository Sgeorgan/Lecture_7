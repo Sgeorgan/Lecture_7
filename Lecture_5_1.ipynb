{
  "cells": [
    {
      "cell_type": "markdown",
      "metadata": {
        "id": "LTgzLVVzcdVS"
      },
      "source": [
        "# Exploring data using pandas\n",
        "\n",
        "\n",
        "``\n",
        "Our first task in this week's lesson is to learn how to **read and explore data files in Python**. We will focus on using [pandas](https://pandas.pydata.org/pandas-docs/stable/) which is an open-source package for data analysis in Python. pandas is an excellent toolkit for working with **real world data** that often have a tabular structure (rows and columns).\n",
        "\n",
        "We will first get familiar with the **pandas data structures**: *DataFrame* and *Series*:\n",
        "\n",
        "\n",
        "- **pandas DataFrame** (a 2-dimensional data structure) is used for storing and mainpulating table-like data (data with rows and columns) in Python. You can think of a pandas DataFrame as a programmable spreadsheet.\n",
        "- **pandas Series** (a 1-dimensional data structure) is used for storing and manipulating a sequence of values. pandas Series is kind of like a list, but more clever. One row or one column in a pandas DataFrame is actually a pandas Series.\n",
        "\n",
        "These pandas structures incorporate a number of things we've already encountered, such as indices, data stored in a collection, and data types. Let's have another look at the pandas data structures below with some additional annotation.\n",
        "\n",
        "Both DataFrames and Series in pandas have an index that can be used to select values, but they also have column labels to identify columns in DataFrames. In the lesson this week we'll use many of these features to explore real-world data and learn some useful data analysis procedures.\n",
        "\n",
        "For a comprehensive overview of pandas data structures you can have a look at Chapter 5 in Wes MacKinney's book [Python for Data Analysis (2nd Edition, 2017)](https://geo-python-site.readthedocs.io/en/latest/course-info/resources.html#books) and the [pandas online documentation about data structures](https://pandas.pydata.org/pandas-docs/stable/user_guide/dsintro.html). This lecture has adapted or reused material from University of Helsinki Geo-python course (https://geo-python-site.readthedocs.io/en/latest/course-info/licensing.html ) under a Creative Commons Attribution-ShareAlike 4.0 International licence.\n",
        "\n",
        "```{note}\n",
        "pandas is a \"high-level\" package, which means that it makes use of several other packages, such as [NumPy](https://numpy.org/), in the background. There are several ways in which data can be read from a file in Python, and for several years now we have decided to focus primarily on pandas because it is easy-to-use, efficient and intuitive. If you are curius about other approaches for interacting with data files, you can find lesson materials from previous years about reading data using [NumPy](https://geo-python-site.readthedocs.io/en/2018.1/notebooks/L5/numpy/1-Exploring-data-using-numpy.html#Reading-a-data-file-with-NumPy) or [built-in Python functions](https://geo-python-site.readthedocs.io/en/2017.1/lessons/L5/reading-data-from-file.html).\n",
        "```\n",
        "\n",
        "\n",
        "- File name: [3172914.txt] (have a look at the file before reading it in using pandas!)\n",
        "\n",
        "\n",
        "## Reading a data file with pandas\n",
        "\n",
        "Now we're ready to read in our temperature data file. **First, we need to import the pandas module.** It is customary to import pandas as `pd`:"
      ]
    },
    {
      "cell_type": "code",
      "execution_count": null,
      "metadata": {
        "id": "mPHHxnhmcdVU"
      },
      "outputs": [],
      "source": [
        "import pandas as pd"
      ]
    },
    {
      "cell_type": "markdown",
      "metadata": {
        "id": "JbNdvdVVcdVV"
      },
      "source": [
        "**Next, we'll read the input data file**, and store the contents of that file into a variable called `data` Using the `pandas.read_csv()` function:"
      ]
    },
    {
      "cell_type": "code",
      "execution_count": null,
      "metadata": {
        "id": "qENXZH2kcdVV"
      },
      "outputs": [],
      "source": [
        "##read the text file with pandas. If you work in Google Colab, upload the file in your google drive or the temporary working storage and import it as shown previously.\n",
        "df = pd.read_csv('3172914.txt')"
      ]
    },
    {
      "cell_type": "code",
      "execution_count": null,
      "metadata": {
        "id": "2u1CPDc7cdVV",
        "outputId": "490fa6f5-e7df-469e-a327-ad30537c54a4"
      },
      "outputs": [
        {
          "name": "stdout",
          "output_type": "stream",
          "text": [
            "   STATION           DATE     TAVG     TMAX     TMIN      \n",
            "0   GHCND:SW000024180 20220301 34       47       2...     \n",
            "1   GHCND:SW000024180 20220302 35       47       2...     \n",
            "2   GHCND:SW000024180 20220303 33       42       N...     \n",
            "3   GHCND:SW000024180 20220304 28       38       1...     \n",
            "4   GHCND:SW000024180 20220305 30       41       1...     \n",
            "5   GHCND:SW000024180 20220306 34       44       2...     \n",
            "6   GHCND:SW000024180 20220307 37       46       N...     \n",
            "7   GHCND:SW000024180 20220308 29       43       1...     \n",
            "8   GHCND:SW000024180 20220309 25       30       N...     \n",
            "9   GHCND:SW000024180 20220310 29       32       2...     \n",
            "10  GHCND:SW000024180 20220311 29       39       2...     \n",
            "11  GHCND:SW000024180 20220312 33       47       1...     \n",
            "12  GHCND:SW000024180 20220313 35       49       2...     \n",
            "13  GHCND:SW000024180 20220314 36       50       2...     \n",
            "14  GHCND:SW000024180 20220315 34       NaN    24 ...     \n",
            "15  GHCND:SW000024180 20220316 31       NaN    23 ...     \n",
            "16  GHCND:SW000024180 20220317 34       NaN    29 ...     \n",
            "17  GHCND:SW000024180 20220318 39       49       N...     \n",
            "18  GHCND:SW000024180 20220319 39       NaN    23 ...     \n",
            "19  GHCND:SW000024180 20220320 36       49       N...     \n",
            "20  GHCND:SW000024180 20220321 35       49       2...     \n",
            "21  GHCND:SW000024180 20220322 37       49       2...     \n",
            "22  GHCND:SW000024180 20220323 39       53       2...     \n",
            "23  GHCND:SW000024180 20220324 41       56       2...     \n",
            "24  GHCND:SW000024180 20220325 46       NaN    36 ...     \n",
            "25  GHCND:SW000024180 20220326 40       49       N...     \n",
            "26  GHCND:SW000024180 20220327 43       54       2...     \n",
            "27  GHCND:SW000024180 20220328 46       52       N...     \n",
            "28  GHCND:SW000024180 20220329 32       42       N...     \n",
            "29  GHCND:SW000024180 20220330 28       38       1...     \n",
            "30  GHCND:SW000024180 20220331 30       41       2...     \n"
          ]
        }
      ],
      "source": [
        "print(df)"
      ]
    },
    {
      "cell_type": "markdown",
      "metadata": {
        "id": "Ed-cwm97cdVW"
      },
      "source": [
        "While it could look OK, everything appears to be in one column. We don't want that. Instead we need separate columns for each station, date, average, max and min temperatures. We can fix that by adding a correct delimitter. It seems that pandas by default does not recognize empty space as a delimitter. Let's try again!"
      ]
    },
    {
      "cell_type": "code",
      "execution_count": null,
      "metadata": {
        "id": "3EwTG2VGcdVW"
      },
      "outputs": [],
      "source": [
        "df = pd.read_csv('3172914.txt', delimiter=' ')"
      ]
    },
    {
      "cell_type": "code",
      "execution_count": null,
      "metadata": {
        "id": "UELsWoLicdVW",
        "outputId": "96ec8ded-ca06-4bbc-9210-32f45e1613c5"
      },
      "outputs": [
        {
          "name": "stdout",
          "output_type": "stream",
          "text": [
            "              STATION  Unnamed: 1  Unnamed: 2  Unnamed: 3  Unnamed: 4  \\\n",
            "0   GHCND:SW000024180    20220301          34         NaN         NaN   \n",
            "1   GHCND:SW000024180    20220302          35         NaN         NaN   \n",
            "2   GHCND:SW000024180    20220303          33         NaN         NaN   \n",
            "3   GHCND:SW000024180    20220304          28         NaN         NaN   \n",
            "4   GHCND:SW000024180    20220305          30         NaN         NaN   \n",
            "5   GHCND:SW000024180    20220306          34         NaN         NaN   \n",
            "6   GHCND:SW000024180    20220307          37         NaN         NaN   \n",
            "7   GHCND:SW000024180    20220308          29         NaN         NaN   \n",
            "8   GHCND:SW000024180    20220309          25         NaN         NaN   \n",
            "9   GHCND:SW000024180    20220310          29         NaN         NaN   \n",
            "10  GHCND:SW000024180    20220311          29         NaN         NaN   \n",
            "11  GHCND:SW000024180    20220312          33         NaN         NaN   \n",
            "12  GHCND:SW000024180    20220313          35         NaN         NaN   \n",
            "13  GHCND:SW000024180    20220314          36         NaN         NaN   \n",
            "14  GHCND:SW000024180    20220315          34         NaN         NaN   \n",
            "15  GHCND:SW000024180    20220316          31         NaN         NaN   \n",
            "16  GHCND:SW000024180    20220317          34         NaN         NaN   \n",
            "17  GHCND:SW000024180    20220318          39         NaN         NaN   \n",
            "18  GHCND:SW000024180    20220319          39         NaN         NaN   \n",
            "19  GHCND:SW000024180    20220320          36         NaN         NaN   \n",
            "20  GHCND:SW000024180    20220321          35         NaN         NaN   \n",
            "21  GHCND:SW000024180    20220322          37         NaN         NaN   \n",
            "22  GHCND:SW000024180    20220323          39         NaN         NaN   \n",
            "23  GHCND:SW000024180    20220324          41         NaN         NaN   \n",
            "24  GHCND:SW000024180    20220325          46         NaN         NaN   \n",
            "25  GHCND:SW000024180    20220326          40         NaN         NaN   \n",
            "26  GHCND:SW000024180    20220327          43         NaN         NaN   \n",
            "27  GHCND:SW000024180    20220328          46         NaN         NaN   \n",
            "28  GHCND:SW000024180    20220329          32         NaN         NaN   \n",
            "29  GHCND:SW000024180    20220330          28         NaN         NaN   \n",
            "30  GHCND:SW000024180    20220331          30         NaN         NaN   \n",
            "\n",
            "    Unnamed: 5  Unnamed: 6  Unnamed: 7  Unnamed: 8  Unnamed: 9  ...  \\\n",
            "0          NaN         NaN         NaN         NaN        47.0  ...   \n",
            "1          NaN         NaN         NaN         NaN        47.0  ...   \n",
            "2          NaN         NaN         NaN         NaN        42.0  ...   \n",
            "3          NaN         NaN         NaN         NaN        38.0  ...   \n",
            "4          NaN         NaN         NaN         NaN        41.0  ...   \n",
            "5          NaN         NaN         NaN         NaN        44.0  ...   \n",
            "6          NaN         NaN         NaN         NaN        46.0  ...   \n",
            "7          NaN         NaN         NaN         NaN        43.0  ...   \n",
            "8          NaN         NaN         NaN         NaN        30.0  ...   \n",
            "9          NaN         NaN         NaN         NaN        32.0  ...   \n",
            "10         NaN         NaN         NaN         NaN        39.0  ...   \n",
            "11         NaN         NaN         NaN         NaN        47.0  ...   \n",
            "12         NaN         NaN         NaN         NaN        49.0  ...   \n",
            "13         NaN         NaN         NaN         NaN        50.0  ...   \n",
            "14         NaN         NaN         NaN         NaN         NaN  ...   \n",
            "15         NaN         NaN         NaN         NaN         NaN  ...   \n",
            "16         NaN         NaN         NaN         NaN         NaN  ...   \n",
            "17         NaN         NaN         NaN         NaN        49.0  ...   \n",
            "18         NaN         NaN         NaN         NaN         NaN  ...   \n",
            "19         NaN         NaN         NaN         NaN        49.0  ...   \n",
            "20         NaN         NaN         NaN         NaN        49.0  ...   \n",
            "21         NaN         NaN         NaN         NaN        49.0  ...   \n",
            "22         NaN         NaN         NaN         NaN        53.0  ...   \n",
            "23         NaN         NaN         NaN         NaN        56.0  ...   \n",
            "24         NaN         NaN         NaN         NaN         NaN  ...   \n",
            "25         NaN         NaN         NaN         NaN        49.0  ...   \n",
            "26         NaN         NaN         NaN         NaN        54.0  ...   \n",
            "27         NaN         NaN         NaN         NaN        52.0  ...   \n",
            "28         NaN         NaN         NaN         NaN        42.0  ...   \n",
            "29         NaN         NaN         NaN         NaN        38.0  ...   \n",
            "30         NaN         NaN         NaN         NaN        41.0  ...   \n",
            "\n",
            "    Unnamed: 23  Unnamed: 24  Unnamed: 25  TMIN  Unnamed: 27  Unnamed: 28  \\\n",
            "0           NaN          NaN          NaN   NaN          NaN          NaN   \n",
            "1           NaN          NaN          NaN   NaN          NaN          NaN   \n",
            "2           NaN          NaN          NaN   NaN          NaN          NaN   \n",
            "3           NaN          NaN          NaN   NaN          NaN          NaN   \n",
            "4           NaN          NaN          NaN   NaN          NaN          NaN   \n",
            "5           NaN          NaN          NaN   NaN          NaN          NaN   \n",
            "6           NaN          NaN          NaN   NaN          NaN          NaN   \n",
            "7           NaN          NaN          NaN   NaN          NaN          NaN   \n",
            "8           NaN          NaN          NaN   NaN          NaN          NaN   \n",
            "9           NaN          NaN          NaN   NaN          NaN          NaN   \n",
            "10          NaN          NaN          NaN   NaN          NaN          NaN   \n",
            "11          NaN          NaN          NaN   NaN          NaN          NaN   \n",
            "12          NaN          NaN          NaN   NaN          NaN          NaN   \n",
            "13          NaN          NaN          NaN   NaN          NaN          NaN   \n",
            "14          NaN          NaN          NaN   NaN          NaN          NaN   \n",
            "15          NaN          NaN          NaN   NaN          NaN          NaN   \n",
            "16          NaN          NaN          NaN   NaN          NaN          NaN   \n",
            "17          NaN          NaN          NaN   NaN          NaN          NaN   \n",
            "18          NaN          NaN          NaN   NaN          NaN          NaN   \n",
            "19          NaN          NaN          NaN   NaN          NaN          NaN   \n",
            "20          NaN          NaN          NaN   NaN          NaN          NaN   \n",
            "21          NaN          NaN          NaN   NaN          NaN          NaN   \n",
            "22          NaN          NaN          NaN   NaN          NaN          NaN   \n",
            "23          NaN          NaN          NaN   NaN          NaN          NaN   \n",
            "24          NaN          NaN          NaN   NaN          NaN          NaN   \n",
            "25          NaN          NaN          NaN   NaN          NaN          NaN   \n",
            "26          NaN          NaN          NaN   NaN          NaN          NaN   \n",
            "27          NaN          NaN          NaN   NaN          NaN          NaN   \n",
            "28          NaN          NaN          NaN   NaN          NaN          NaN   \n",
            "29          NaN          NaN          NaN   NaN          NaN          NaN   \n",
            "30          NaN          NaN          NaN   NaN          NaN          NaN   \n",
            "\n",
            "    Unnamed: 29  Unnamed: 30  Unnamed: 31  Unnamed: 32  \n",
            "0           NaN          NaN          NaN          NaN  \n",
            "1           NaN          NaN          NaN          NaN  \n",
            "2           NaN          NaN          NaN          NaN  \n",
            "3           NaN          NaN          NaN          NaN  \n",
            "4           NaN          NaN          NaN          NaN  \n",
            "5           NaN          NaN          NaN          NaN  \n",
            "6           NaN          NaN          NaN          NaN  \n",
            "7           NaN          NaN          NaN          NaN  \n",
            "8           NaN          NaN          NaN          NaN  \n",
            "9           NaN          NaN          NaN          NaN  \n",
            "10          NaN          NaN          NaN          NaN  \n",
            "11          NaN          NaN          NaN          NaN  \n",
            "12          NaN          NaN          NaN          NaN  \n",
            "13          NaN          NaN          NaN          NaN  \n",
            "14          NaN          NaN          NaN          NaN  \n",
            "15          NaN          NaN          NaN          NaN  \n",
            "16          NaN          NaN          NaN          NaN  \n",
            "17          NaN          NaN          NaN          NaN  \n",
            "18          NaN          NaN          NaN          NaN  \n",
            "19          NaN          NaN          NaN          NaN  \n",
            "20          NaN          NaN          NaN          NaN  \n",
            "21          NaN          NaN          NaN          NaN  \n",
            "22          NaN          NaN          NaN          NaN  \n",
            "23          NaN          NaN          NaN          NaN  \n",
            "24          NaN          NaN          NaN          NaN  \n",
            "25          NaN          NaN          NaN          NaN  \n",
            "26          NaN          NaN          NaN          NaN  \n",
            "27          NaN          NaN          NaN          NaN  \n",
            "28          NaN          NaN          NaN          NaN  \n",
            "29          NaN          NaN          NaN          NaN  \n",
            "30          NaN          NaN          NaN          NaN  \n",
            "\n",
            "[31 rows x 33 columns]\n"
          ]
        }
      ],
      "source": [
        "print(df)"
      ]
    },
    {
      "cell_type": "markdown",
      "metadata": {
        "id": "7cb11voVcdVW"
      },
      "source": [
        "Something is wrong again. We definately not have 32 columns but only 5. Maybe it is better to specify them as we know their names. Let's make list and add some more parameters to the pandas import!"
      ]
    },
    {
      "cell_type": "code",
      "execution_count": null,
      "metadata": {
        "id": "6zF-298ccdVW"
      },
      "outputs": [],
      "source": [
        "columns = ['STATION', 'DATE', 'TAVG', 'TMAX', 'TMIN']\n",
        "usecols = [0, 1, 2, 3, 4]"
      ]
    },
    {
      "cell_type": "code",
      "execution_count": null,
      "metadata": {
        "id": "WLtka-qpcdVW"
      },
      "outputs": [],
      "source": [
        "df = pd.read_csv('3172914.txt', delimiter=' ', names=columns, usecols=usecols)"
      ]
    },
    {
      "cell_type": "code",
      "execution_count": null,
      "metadata": {
        "id": "o1iR1qbQcdVW",
        "outputId": "b5fcecba-2764-4bed-f8fc-47c8cd96cef7"
      },
      "outputs": [
        {
          "name": "stdout",
          "output_type": "stream",
          "text": [
            "              STATION        DATE  TAVG  TMAX  TMIN\n",
            "0             STATION         NaN   NaN   NaN   NaN\n",
            "1   GHCND:SW000024180  20220301.0  34.0   NaN   NaN\n",
            "2   GHCND:SW000024180  20220302.0  35.0   NaN   NaN\n",
            "3   GHCND:SW000024180  20220303.0  33.0   NaN   NaN\n",
            "4   GHCND:SW000024180  20220304.0  28.0   NaN   NaN\n",
            "5   GHCND:SW000024180  20220305.0  30.0   NaN   NaN\n",
            "6   GHCND:SW000024180  20220306.0  34.0   NaN   NaN\n",
            "7   GHCND:SW000024180  20220307.0  37.0   NaN   NaN\n",
            "8   GHCND:SW000024180  20220308.0  29.0   NaN   NaN\n",
            "9   GHCND:SW000024180  20220309.0  25.0   NaN   NaN\n",
            "10  GHCND:SW000024180  20220310.0  29.0   NaN   NaN\n",
            "11  GHCND:SW000024180  20220311.0  29.0   NaN   NaN\n",
            "12  GHCND:SW000024180  20220312.0  33.0   NaN   NaN\n",
            "13  GHCND:SW000024180  20220313.0  35.0   NaN   NaN\n",
            "14  GHCND:SW000024180  20220314.0  36.0   NaN   NaN\n",
            "15  GHCND:SW000024180  20220315.0  34.0   NaN   NaN\n",
            "16  GHCND:SW000024180  20220316.0  31.0   NaN   NaN\n",
            "17  GHCND:SW000024180  20220317.0  34.0   NaN   NaN\n",
            "18  GHCND:SW000024180  20220318.0  39.0   NaN   NaN\n",
            "19  GHCND:SW000024180  20220319.0  39.0   NaN   NaN\n",
            "20  GHCND:SW000024180  20220320.0  36.0   NaN   NaN\n",
            "21  GHCND:SW000024180  20220321.0  35.0   NaN   NaN\n",
            "22  GHCND:SW000024180  20220322.0  37.0   NaN   NaN\n",
            "23  GHCND:SW000024180  20220323.0  39.0   NaN   NaN\n",
            "24  GHCND:SW000024180  20220324.0  41.0   NaN   NaN\n",
            "25  GHCND:SW000024180  20220325.0  46.0   NaN   NaN\n",
            "26  GHCND:SW000024180  20220326.0  40.0   NaN   NaN\n",
            "27  GHCND:SW000024180  20220327.0  43.0   NaN   NaN\n",
            "28  GHCND:SW000024180  20220328.0  46.0   NaN   NaN\n",
            "29  GHCND:SW000024180  20220329.0  32.0   NaN   NaN\n",
            "30  GHCND:SW000024180  20220330.0  28.0   NaN   NaN\n",
            "31  GHCND:SW000024180  20220331.0  30.0   NaN   NaN\n"
          ]
        }
      ],
      "source": [
        "print(df)"
      ]
    },
    {
      "cell_type": "markdown",
      "metadata": {
        "id": "h_vrOwuEcdVX"
      },
      "source": [
        "It looks like the issue is that the read_csv() function is interpreting the values in the TMAX and TMIN columns as missing data, because they are surrounded by whitespace. The values in these columns appear to be indented, which is causing the read_csv() function to treat them as missing."
      ]
    },
    {
      "cell_type": "code",
      "execution_count": null,
      "metadata": {
        "id": "aa8vYj5TcdVX"
      },
      "outputs": [],
      "source": [
        "df = pd.read_csv('3172914.txt', delimiter=' ', names=columns, usecols=usecols, skipinitialspace=True)"
      ]
    },
    {
      "cell_type": "code",
      "execution_count": null,
      "metadata": {
        "id": "cc-mz9nBcdVX",
        "outputId": "811bd7bb-d681-449a-dbc1-4766e7614242"
      },
      "outputs": [
        {
          "name": "stdout",
          "output_type": "stream",
          "text": [
            "              STATION      DATE  TAVG  TMAX  TMIN\n",
            "0             STATION      DATE  TAVG  TMAX  TMIN\n",
            "1   GHCND:SW000024180  20220301    34    47    28\n",
            "2   GHCND:SW000024180  20220302    35    47    24\n",
            "3   GHCND:SW000024180  20220303    33    42   NaN\n",
            "4   GHCND:SW000024180  20220304    28    38    19\n",
            "5   GHCND:SW000024180  20220305    30    41    17\n",
            "6   GHCND:SW000024180  20220306    34    44    23\n",
            "7   GHCND:SW000024180  20220307    37    46   NaN\n",
            "8   GHCND:SW000024180  20220308    29    43    19\n",
            "9   GHCND:SW000024180  20220309    25    30   NaN\n",
            "10  GHCND:SW000024180  20220310    29    32    20\n",
            "11  GHCND:SW000024180  20220311    29    39    21\n",
            "12  GHCND:SW000024180  20220312    33    47    17\n",
            "13  GHCND:SW000024180  20220313    35    49    20\n",
            "14  GHCND:SW000024180  20220314    36    50    20\n",
            "15  GHCND:SW000024180  20220315    34   NaN    24\n",
            "16  GHCND:SW000024180  20220316    31   NaN    23\n",
            "17  GHCND:SW000024180  20220317    34   NaN    29\n",
            "18  GHCND:SW000024180  20220318    39    49   NaN\n",
            "19  GHCND:SW000024180  20220319    39   NaN    23\n",
            "20  GHCND:SW000024180  20220320    36    49   NaN\n",
            "21  GHCND:SW000024180  20220321    35    49    24\n",
            "22  GHCND:SW000024180  20220322    37    49    25\n",
            "23  GHCND:SW000024180  20220323    39    53    26\n",
            "24  GHCND:SW000024180  20220324    41    56    26\n",
            "25  GHCND:SW000024180  20220325    46   NaN    36\n",
            "26  GHCND:SW000024180  20220326    40    49   NaN\n",
            "27  GHCND:SW000024180  20220327    43    54    27\n",
            "28  GHCND:SW000024180  20220328    46    52   NaN\n",
            "29  GHCND:SW000024180  20220329    32    42   NaN\n",
            "30  GHCND:SW000024180  20220330    28    38    13\n",
            "31  GHCND:SW000024180  20220331    30    41    20\n"
          ]
        }
      ],
      "source": [
        "print(df)"
      ]
    },
    {
      "cell_type": "markdown",
      "metadata": {
        "id": "03ZIv1ShcdVX"
      },
      "source": [
        "Much better now! But still the column header seems to be duplicated. Maybe it's better we skip the first row as there are some problems with empty spaces."
      ]
    },
    {
      "cell_type": "code",
      "execution_count": null,
      "metadata": {
        "jupyter": {
          "outputs_hidden": false
        },
        "id": "FXMS_bfTcdVX"
      },
      "outputs": [],
      "source": [
        "\n",
        "\n",
        "# Read the file using the read_csv() function, specify the delimiter as a space, skip the first row, and use the specified columns\n",
        "df = pd.read_csv('3172914.txt', delimiter=' ', skiprows=1, names=columns, usecols=usecols, skipinitialspace=True)"
      ]
    },
    {
      "cell_type": "code",
      "execution_count": null,
      "metadata": {
        "id": "fA7KdJ2vcdVX",
        "outputId": "dd3e2688-7698-42ef-a5c5-7ed1c76b456f"
      },
      "outputs": [
        {
          "name": "stdout",
          "output_type": "stream",
          "text": [
            "              STATION      DATE  TAVG  TMAX  TMIN\n",
            "0   GHCND:SW000024180  20220301    34  47.0  28.0\n",
            "1   GHCND:SW000024180  20220302    35  47.0  24.0\n",
            "2   GHCND:SW000024180  20220303    33  42.0   NaN\n",
            "3   GHCND:SW000024180  20220304    28  38.0  19.0\n",
            "4   GHCND:SW000024180  20220305    30  41.0  17.0\n",
            "5   GHCND:SW000024180  20220306    34  44.0  23.0\n",
            "6   GHCND:SW000024180  20220307    37  46.0   NaN\n",
            "7   GHCND:SW000024180  20220308    29  43.0  19.0\n",
            "8   GHCND:SW000024180  20220309    25  30.0   NaN\n",
            "9   GHCND:SW000024180  20220310    29  32.0  20.0\n",
            "10  GHCND:SW000024180  20220311    29  39.0  21.0\n",
            "11  GHCND:SW000024180  20220312    33  47.0  17.0\n",
            "12  GHCND:SW000024180  20220313    35  49.0  20.0\n",
            "13  GHCND:SW000024180  20220314    36  50.0  20.0\n",
            "14  GHCND:SW000024180  20220315    34   NaN  24.0\n",
            "15  GHCND:SW000024180  20220316    31   NaN  23.0\n",
            "16  GHCND:SW000024180  20220317    34   NaN  29.0\n",
            "17  GHCND:SW000024180  20220318    39  49.0   NaN\n",
            "18  GHCND:SW000024180  20220319    39   NaN  23.0\n",
            "19  GHCND:SW000024180  20220320    36  49.0   NaN\n",
            "20  GHCND:SW000024180  20220321    35  49.0  24.0\n",
            "21  GHCND:SW000024180  20220322    37  49.0  25.0\n",
            "22  GHCND:SW000024180  20220323    39  53.0  26.0\n",
            "23  GHCND:SW000024180  20220324    41  56.0  26.0\n",
            "24  GHCND:SW000024180  20220325    46   NaN  36.0\n",
            "25  GHCND:SW000024180  20220326    40  49.0   NaN\n",
            "26  GHCND:SW000024180  20220327    43  54.0  27.0\n",
            "27  GHCND:SW000024180  20220328    46  52.0   NaN\n",
            "28  GHCND:SW000024180  20220329    32  42.0   NaN\n",
            "29  GHCND:SW000024180  20220330    28  38.0  13.0\n",
            "30  GHCND:SW000024180  20220331    30  41.0  20.0\n"
          ]
        }
      ],
      "source": [
        "print(df)"
      ]
    },
    {
      "cell_type": "markdown",
      "metadata": {
        "id": "_tWJBG9FcdVX"
      },
      "source": [
        "If all goes as planned, you should now have a new variable `data` in memory that contains the input data.\n",
        "\n",
        "Let's check the the contents of this variable by calling `data` or `print(data)`:"
      ]
    },
    {
      "cell_type": "markdown",
      "metadata": {
        "id": "U_sFYvTNcdVX"
      },
      "source": [
        "This looks OK, but there are some strange values present such as `NaN`, and the first lines of the dataframe look a bit weird.\n",
        "\n",
        "`NaN` stands for \"not a number\", and might indicate some problem with reading in the contents of the file. Plus, we expected about 30 lines of data, but the index values go up to 36 when we print the contents of the `data` variable. Looks like we need to investigate this further."
      ]
    },
    {
      "cell_type": "markdown",
      "metadata": {
        "id": "FElHgDROcdVX"
      },
      "source": [
        "After reading in the data, it is always good to check that everything went well by printing out the data as we did here. However, often it is enough to have a look at the top few rows of the data.\n",
        "\n",
        "We can use the `.head()` function of the pandas DataFrame object to quickly check the top rows. By default, the `.head()` function returns the first 5 rows of the DataFrame:"
      ]
    },
    {
      "cell_type": "code",
      "execution_count": null,
      "metadata": {
        "jupyter": {
          "outputs_hidden": false
        },
        "id": "oO4NKOVncdVX",
        "outputId": "736bfde2-82f0-446a-809c-f9a8bc878c91"
      },
      "outputs": [
        {
          "data": {
            "text/html": [
              "<div>\n",
              "<style scoped>\n",
              "    .dataframe tbody tr th:only-of-type {\n",
              "        vertical-align: middle;\n",
              "    }\n",
              "\n",
              "    .dataframe tbody tr th {\n",
              "        vertical-align: top;\n",
              "    }\n",
              "\n",
              "    .dataframe thead th {\n",
              "        text-align: right;\n",
              "    }\n",
              "</style>\n",
              "<table border=\"1\" class=\"dataframe\">\n",
              "  <thead>\n",
              "    <tr style=\"text-align: right;\">\n",
              "      <th></th>\n",
              "      <th>STATION</th>\n",
              "      <th>DATE</th>\n",
              "      <th>TAVG</th>\n",
              "      <th>TMAX</th>\n",
              "      <th>TMIN</th>\n",
              "    </tr>\n",
              "  </thead>\n",
              "  <tbody>\n",
              "    <tr>\n",
              "      <th>0</th>\n",
              "      <td>GHCND:SW000024180</td>\n",
              "      <td>20220301</td>\n",
              "      <td>34</td>\n",
              "      <td>47.0</td>\n",
              "      <td>28.0</td>\n",
              "    </tr>\n",
              "    <tr>\n",
              "      <th>1</th>\n",
              "      <td>GHCND:SW000024180</td>\n",
              "      <td>20220302</td>\n",
              "      <td>35</td>\n",
              "      <td>47.0</td>\n",
              "      <td>24.0</td>\n",
              "    </tr>\n",
              "    <tr>\n",
              "      <th>2</th>\n",
              "      <td>GHCND:SW000024180</td>\n",
              "      <td>20220303</td>\n",
              "      <td>33</td>\n",
              "      <td>42.0</td>\n",
              "      <td>NaN</td>\n",
              "    </tr>\n",
              "    <tr>\n",
              "      <th>3</th>\n",
              "      <td>GHCND:SW000024180</td>\n",
              "      <td>20220304</td>\n",
              "      <td>28</td>\n",
              "      <td>38.0</td>\n",
              "      <td>19.0</td>\n",
              "    </tr>\n",
              "    <tr>\n",
              "      <th>4</th>\n",
              "      <td>GHCND:SW000024180</td>\n",
              "      <td>20220305</td>\n",
              "      <td>30</td>\n",
              "      <td>41.0</td>\n",
              "      <td>17.0</td>\n",
              "    </tr>\n",
              "  </tbody>\n",
              "</table>\n",
              "</div>"
            ],
            "text/plain": [
              "             STATION      DATE  TAVG  TMAX  TMIN\n",
              "0  GHCND:SW000024180  20220301    34  47.0  28.0\n",
              "1  GHCND:SW000024180  20220302    35  47.0  24.0\n",
              "2  GHCND:SW000024180  20220303    33  42.0   NaN\n",
              "3  GHCND:SW000024180  20220304    28  38.0  19.0\n",
              "4  GHCND:SW000024180  20220305    30  41.0  17.0"
            ]
          },
          "execution_count": 13,
          "metadata": {},
          "output_type": "execute_result"
        }
      ],
      "source": [
        "df.head()"
      ]
    },
    {
      "cell_type": "markdown",
      "metadata": {
        "id": "Rb4ympltcdVX"
      },
      "source": [
        "We can also check the last rows of the data using `data.tail()`:"
      ]
    },
    {
      "cell_type": "code",
      "execution_count": null,
      "metadata": {
        "id": "7qUEhI3ccdVY",
        "outputId": "e9d076df-279d-438a-fcc7-c679bd1c6dd7"
      },
      "outputs": [
        {
          "data": {
            "text/html": [
              "<div>\n",
              "<style scoped>\n",
              "    .dataframe tbody tr th:only-of-type {\n",
              "        vertical-align: middle;\n",
              "    }\n",
              "\n",
              "    .dataframe tbody tr th {\n",
              "        vertical-align: top;\n",
              "    }\n",
              "\n",
              "    .dataframe thead th {\n",
              "        text-align: right;\n",
              "    }\n",
              "</style>\n",
              "<table border=\"1\" class=\"dataframe\">\n",
              "  <thead>\n",
              "    <tr style=\"text-align: right;\">\n",
              "      <th></th>\n",
              "      <th>STATION</th>\n",
              "      <th>DATE</th>\n",
              "      <th>TAVG</th>\n",
              "      <th>TMAX</th>\n",
              "      <th>TMIN</th>\n",
              "    </tr>\n",
              "  </thead>\n",
              "  <tbody>\n",
              "    <tr>\n",
              "      <th>26</th>\n",
              "      <td>GHCND:SW000024180</td>\n",
              "      <td>20220327</td>\n",
              "      <td>43</td>\n",
              "      <td>54.0</td>\n",
              "      <td>27.0</td>\n",
              "    </tr>\n",
              "    <tr>\n",
              "      <th>27</th>\n",
              "      <td>GHCND:SW000024180</td>\n",
              "      <td>20220328</td>\n",
              "      <td>46</td>\n",
              "      <td>52.0</td>\n",
              "      <td>NaN</td>\n",
              "    </tr>\n",
              "    <tr>\n",
              "      <th>28</th>\n",
              "      <td>GHCND:SW000024180</td>\n",
              "      <td>20220329</td>\n",
              "      <td>32</td>\n",
              "      <td>42.0</td>\n",
              "      <td>NaN</td>\n",
              "    </tr>\n",
              "    <tr>\n",
              "      <th>29</th>\n",
              "      <td>GHCND:SW000024180</td>\n",
              "      <td>20220330</td>\n",
              "      <td>28</td>\n",
              "      <td>38.0</td>\n",
              "      <td>13.0</td>\n",
              "    </tr>\n",
              "    <tr>\n",
              "      <th>30</th>\n",
              "      <td>GHCND:SW000024180</td>\n",
              "      <td>20220331</td>\n",
              "      <td>30</td>\n",
              "      <td>41.0</td>\n",
              "      <td>20.0</td>\n",
              "    </tr>\n",
              "  </tbody>\n",
              "</table>\n",
              "</div>"
            ],
            "text/plain": [
              "              STATION      DATE  TAVG  TMAX  TMIN\n",
              "26  GHCND:SW000024180  20220327    43  54.0  27.0\n",
              "27  GHCND:SW000024180  20220328    46  52.0   NaN\n",
              "28  GHCND:SW000024180  20220329    32  42.0   NaN\n",
              "29  GHCND:SW000024180  20220330    28  38.0  13.0\n",
              "30  GHCND:SW000024180  20220331    30  41.0  20.0"
            ]
          },
          "execution_count": 14,
          "metadata": {},
          "output_type": "execute_result"
        }
      ],
      "source": [
        "df.tail()"
      ]
    },
    {
      "cell_type": "markdown",
      "metadata": {
        "id": "SpVVMb5scdVY"
      },
      "source": [
        "Note that pandas DataFrames have **labelled axes (rows and columns)**. In our sample data, the rows labeled with an index value (`0` to `29`), and columns labelled `STATION`, `DATE`,`TAVG`, `TMAX`, and `TMIN`. Later on, we will learn how to use these labels for selecting and updating subsets of the data."
      ]
    },
    {
      "cell_type": "markdown",
      "metadata": {
        "id": "H4rM5whhcdVY"
      },
      "source": [
        "**Let's also confirm the data type of our data variable:**"
      ]
    },
    {
      "cell_type": "code",
      "execution_count": null,
      "metadata": {
        "jupyter": {
          "outputs_hidden": false
        },
        "id": "RI1btDwCcdVY",
        "outputId": "2a1441c9-deba-4cae-c8fa-ad8e2b85be6d"
      },
      "outputs": [
        {
          "data": {
            "text/plain": [
              "pandas.core.frame.DataFrame"
            ]
          },
          "execution_count": 15,
          "metadata": {},
          "output_type": "execute_result"
        }
      ],
      "source": [
        "type(df)"
      ]
    },
    {
      "cell_type": "markdown",
      "metadata": {
        "id": "_lZyl0-4cdVY"
      },
      "source": [
        "No surprises here, our data variable is a pandas DataFrame."
      ]
    },
    {
      "cell_type": "markdown",
      "metadata": {
        "id": "ua82eJxAcdVY"
      },
      "source": [
        "#### Check your understanding\n",
        "\n",
        "Read the file `python_data.txt` in again and store its contents in a new variable called `temp_data`. In this case you should only read in the columns `DATE` and `TAVG`, so the new variable `temp_data` should have 30 rows and 2 columns. You can achieve this using the `usecols` parameter when reading in the file. Feel free to check for more help in the [pandas.read_csv documentation](https://pandas.pydata.org/pandas-docs/stable/generated/pandas.read_csv.html)."
      ]
    },
    {
      "cell_type": "code",
      "execution_count": null,
      "metadata": {
        "tags": [
          "hide-cell"
        ],
        "id": "uqFokk74cdVY"
      },
      "outputs": [],
      "source": [
        "# Solution\n",
        "columns = ['DATE','TAVG']\n",
        "usecols = [1, 2]\n",
        "\n",
        "\n",
        "df = pd.read_csv('3172914.txt', delimiter=' ', skiprows=1, names=columns, usecols=usecols, skipinitialspace=True)"
      ]
    },
    {
      "cell_type": "code",
      "execution_count": null,
      "metadata": {
        "id": "CIOlEZMdcdVY",
        "outputId": "a00a56a9-6fb1-4fa3-d5a4-f58369e28813"
      },
      "outputs": [
        {
          "name": "stdout",
          "output_type": "stream",
          "text": [
            "        DATE  TAVG\n",
            "0   20220301    34\n",
            "1   20220302    35\n",
            "2   20220303    33\n",
            "3   20220304    28\n",
            "4   20220305    30\n",
            "5   20220306    34\n",
            "6   20220307    37\n",
            "7   20220308    29\n",
            "8   20220309    25\n",
            "9   20220310    29\n",
            "10  20220311    29\n",
            "11  20220312    33\n",
            "12  20220313    35\n",
            "13  20220314    36\n",
            "14  20220315    34\n",
            "15  20220316    31\n",
            "16  20220317    34\n",
            "17  20220318    39\n",
            "18  20220319    39\n",
            "19  20220320    36\n",
            "20  20220321    35\n",
            "21  20220322    37\n",
            "22  20220323    39\n",
            "23  20220324    41\n",
            "24  20220325    46\n",
            "25  20220326    40\n",
            "26  20220327    43\n",
            "27  20220328    46\n",
            "28  20220329    32\n",
            "29  20220330    28\n",
            "30  20220331    30\n"
          ]
        }
      ],
      "source": [
        "print(df)"
      ]
    },
    {
      "cell_type": "markdown",
      "metadata": {
        "id": "ySFy3vM_cdVY"
      },
      "source": [
        "## DataFrame properties\n",
        "\n",
        "Let's continue with the full data set that we have stored in the variable `data` and explore it's contents further.\n",
        "A normal first step when you load new data is to explore the dataset a bit to understand how the data is structured, and what kind of values are stored in there."
      ]
    },
    {
      "cell_type": "markdown",
      "metadata": {
        "id": "aMF8nGf8cdVY"
      },
      "source": [
        "Let's start by checking the size of our data frame. We can use the `len()` function similar to the one we use with lists to check how many rows we have:"
      ]
    },
    {
      "cell_type": "code",
      "execution_count": null,
      "metadata": {
        "id": "IOoAQ1q_cdVY"
      },
      "outputs": [],
      "source": [
        "columns = ['STATION', 'DATE', 'TAVG', 'TMAX', 'TMIN']\n",
        "usecols = [0, 1, 2, 3, 4]\n",
        "df = pd.read_csv('3172914.txt', delimiter=' ', skiprows=1, names=columns, usecols=usecols, skipinitialspace=True)"
      ]
    },
    {
      "cell_type": "code",
      "execution_count": null,
      "metadata": {
        "id": "EuE93LcocdVY",
        "outputId": "679b6b0e-9f56-4481-cb37-ccede5136049"
      },
      "outputs": [
        {
          "name": "stdout",
          "output_type": "stream",
          "text": [
            "              STATION      DATE  TAVG  TMAX  TMIN\n",
            "0   GHCND:SW000024180  20220301    34  47.0  28.0\n",
            "1   GHCND:SW000024180  20220302    35  47.0  24.0\n",
            "2   GHCND:SW000024180  20220303    33  42.0   NaN\n",
            "3   GHCND:SW000024180  20220304    28  38.0  19.0\n",
            "4   GHCND:SW000024180  20220305    30  41.0  17.0\n",
            "5   GHCND:SW000024180  20220306    34  44.0  23.0\n",
            "6   GHCND:SW000024180  20220307    37  46.0   NaN\n",
            "7   GHCND:SW000024180  20220308    29  43.0  19.0\n",
            "8   GHCND:SW000024180  20220309    25  30.0   NaN\n",
            "9   GHCND:SW000024180  20220310    29  32.0  20.0\n",
            "10  GHCND:SW000024180  20220311    29  39.0  21.0\n",
            "11  GHCND:SW000024180  20220312    33  47.0  17.0\n",
            "12  GHCND:SW000024180  20220313    35  49.0  20.0\n",
            "13  GHCND:SW000024180  20220314    36  50.0  20.0\n",
            "14  GHCND:SW000024180  20220315    34   NaN  24.0\n",
            "15  GHCND:SW000024180  20220316    31   NaN  23.0\n",
            "16  GHCND:SW000024180  20220317    34   NaN  29.0\n",
            "17  GHCND:SW000024180  20220318    39  49.0   NaN\n",
            "18  GHCND:SW000024180  20220319    39   NaN  23.0\n",
            "19  GHCND:SW000024180  20220320    36  49.0   NaN\n",
            "20  GHCND:SW000024180  20220321    35  49.0  24.0\n",
            "21  GHCND:SW000024180  20220322    37  49.0  25.0\n",
            "22  GHCND:SW000024180  20220323    39  53.0  26.0\n",
            "23  GHCND:SW000024180  20220324    41  56.0  26.0\n",
            "24  GHCND:SW000024180  20220325    46   NaN  36.0\n",
            "25  GHCND:SW000024180  20220326    40  49.0   NaN\n",
            "26  GHCND:SW000024180  20220327    43  54.0  27.0\n",
            "27  GHCND:SW000024180  20220328    46  52.0   NaN\n",
            "28  GHCND:SW000024180  20220329    32  42.0   NaN\n",
            "29  GHCND:SW000024180  20220330    28  38.0  13.0\n",
            "30  GHCND:SW000024180  20220331    30  41.0  20.0\n"
          ]
        }
      ],
      "source": [
        "print(df)"
      ]
    },
    {
      "cell_type": "markdown",
      "metadata": {
        "id": "yRuVNKegcdVY"
      },
      "source": [
        "Let's remove the NaN values. using the drop.na() function we can remove rows that contain missing data.\n"
      ]
    },
    {
      "cell_type": "code",
      "execution_count": null,
      "metadata": {
        "id": "jBY_uMljcdVY",
        "outputId": "3b3f6c08-2c4d-4e81-da18-54376c3df482"
      },
      "outputs": [
        {
          "name": "stdout",
          "output_type": "stream",
          "text": [
            "              STATION      DATE  TAVG  TMAX  TMIN\n",
            "0   GHCND:SW000024180  20220301    34  47.0  28.0\n",
            "1   GHCND:SW000024180  20220302    35  47.0  24.0\n",
            "3   GHCND:SW000024180  20220304    28  38.0  19.0\n",
            "4   GHCND:SW000024180  20220305    30  41.0  17.0\n",
            "5   GHCND:SW000024180  20220306    34  44.0  23.0\n",
            "7   GHCND:SW000024180  20220308    29  43.0  19.0\n",
            "9   GHCND:SW000024180  20220310    29  32.0  20.0\n",
            "10  GHCND:SW000024180  20220311    29  39.0  21.0\n",
            "11  GHCND:SW000024180  20220312    33  47.0  17.0\n",
            "12  GHCND:SW000024180  20220313    35  49.0  20.0\n",
            "13  GHCND:SW000024180  20220314    36  50.0  20.0\n",
            "20  GHCND:SW000024180  20220321    35  49.0  24.0\n",
            "21  GHCND:SW000024180  20220322    37  49.0  25.0\n",
            "22  GHCND:SW000024180  20220323    39  53.0  26.0\n",
            "23  GHCND:SW000024180  20220324    41  56.0  26.0\n",
            "26  GHCND:SW000024180  20220327    43  54.0  27.0\n",
            "29  GHCND:SW000024180  20220330    28  38.0  13.0\n",
            "30  GHCND:SW000024180  20220331    30  41.0  20.0\n"
          ]
        }
      ],
      "source": [
        "df = df.dropna()\n",
        "print(df)"
      ]
    },
    {
      "cell_type": "code",
      "execution_count": null,
      "metadata": {
        "id": "gCt7wA80cdVY"
      },
      "outputs": [],
      "source": [
        "df = df.reset_index(drop=True)"
      ]
    },
    {
      "cell_type": "code",
      "execution_count": null,
      "metadata": {
        "id": "JDb2A2FScdVY",
        "outputId": "af8a6e9e-9c51-425e-f2f1-14edfb75d9f8"
      },
      "outputs": [
        {
          "name": "stdout",
          "output_type": "stream",
          "text": [
            "              STATION      DATE  TAVG  TMAX  TMIN\n",
            "0   GHCND:SW000024180  20220301    34  47.0  28.0\n",
            "1   GHCND:SW000024180  20220302    35  47.0  24.0\n",
            "2   GHCND:SW000024180  20220304    28  38.0  19.0\n",
            "3   GHCND:SW000024180  20220305    30  41.0  17.0\n",
            "4   GHCND:SW000024180  20220306    34  44.0  23.0\n",
            "5   GHCND:SW000024180  20220308    29  43.0  19.0\n",
            "6   GHCND:SW000024180  20220310    29  32.0  20.0\n",
            "7   GHCND:SW000024180  20220311    29  39.0  21.0\n",
            "8   GHCND:SW000024180  20220312    33  47.0  17.0\n",
            "9   GHCND:SW000024180  20220313    35  49.0  20.0\n",
            "10  GHCND:SW000024180  20220314    36  50.0  20.0\n",
            "11  GHCND:SW000024180  20220321    35  49.0  24.0\n",
            "12  GHCND:SW000024180  20220322    37  49.0  25.0\n",
            "13  GHCND:SW000024180  20220323    39  53.0  26.0\n",
            "14  GHCND:SW000024180  20220324    41  56.0  26.0\n",
            "15  GHCND:SW000024180  20220327    43  54.0  27.0\n",
            "16  GHCND:SW000024180  20220330    28  38.0  13.0\n",
            "17  GHCND:SW000024180  20220331    30  41.0  20.0\n"
          ]
        }
      ],
      "source": [
        "print(df)"
      ]
    },
    {
      "cell_type": "code",
      "execution_count": null,
      "metadata": {
        "jupyter": {
          "outputs_hidden": false
        },
        "id": "1uaT7SkTcdVc",
        "outputId": "00bbc0a1-36bc-41a4-ae97-2d14ad562063"
      },
      "outputs": [
        {
          "data": {
            "text/plain": [
              "18"
            ]
          },
          "execution_count": 23,
          "metadata": {},
          "output_type": "execute_result"
        }
      ],
      "source": [
        "# Check the number of rows\n",
        "len(df)"
      ]
    },
    {
      "cell_type": "code",
      "execution_count": null,
      "metadata": {
        "id": "EyfrA77AcdVc",
        "outputId": "d9fbfb53-20a3-41b1-cf49-3df5d70d0dc9"
      },
      "outputs": [
        {
          "name": "stdout",
          "output_type": "stream",
          "text": [
            "              STATION      DATE  TAVG  TMAX  TMIN\n",
            "0   GHCND:SW000024180  20220301    34  47.0  28.0\n",
            "1   GHCND:SW000024180  20220302    35  47.0  24.0\n",
            "2   GHCND:SW000024180  20220304    28  38.0  19.0\n",
            "3   GHCND:SW000024180  20220305    30  41.0  17.0\n",
            "4   GHCND:SW000024180  20220306    34  44.0  23.0\n",
            "5   GHCND:SW000024180  20220308    29  43.0  19.0\n",
            "6   GHCND:SW000024180  20220310    29  32.0  20.0\n",
            "7   GHCND:SW000024180  20220311    29  39.0  21.0\n",
            "8   GHCND:SW000024180  20220312    33  47.0  17.0\n",
            "9   GHCND:SW000024180  20220313    35  49.0  20.0\n",
            "10  GHCND:SW000024180  20220314    36  50.0  20.0\n",
            "11  GHCND:SW000024180  20220321    35  49.0  24.0\n",
            "12  GHCND:SW000024180  20220322    37  49.0  25.0\n",
            "13  GHCND:SW000024180  20220323    39  53.0  26.0\n",
            "14  GHCND:SW000024180  20220324    41  56.0  26.0\n",
            "15  GHCND:SW000024180  20220327    43  54.0  27.0\n",
            "16  GHCND:SW000024180  20220330    28  38.0  13.0\n",
            "17  GHCND:SW000024180  20220331    30  41.0  20.0\n"
          ]
        }
      ],
      "source": [
        "print(df)"
      ]
    },
    {
      "cell_type": "markdown",
      "metadata": {
        "id": "bBklit_RcdVc"
      },
      "source": [
        "We can also get a quick sense of the size of the dataset using the `shape` attribute.\n"
      ]
    },
    {
      "cell_type": "code",
      "execution_count": null,
      "metadata": {
        "jupyter": {
          "outputs_hidden": false
        },
        "id": "Q9jgP3OfcdVc",
        "outputId": "383aadd2-89f2-4b13-a52c-0aaf4ebb86b4"
      },
      "outputs": [
        {
          "data": {
            "text/plain": [
              "(18, 5)"
            ]
          },
          "execution_count": 25,
          "metadata": {},
          "output_type": "execute_result"
        }
      ],
      "source": [
        "# Check dataframe shape (number of rows, number of columns)\n",
        "df.shape"
      ]
    },
    {
      "cell_type": "markdown",
      "metadata": {
        "id": "S_Hy80R5cdVc"
      },
      "source": [
        "Here we see that our dataset has 18 rows and 5 columns, just as we saw above when printing out the entire DataFrame."
      ]
    },
    {
      "cell_type": "markdown",
      "metadata": {
        "id": "LMcZtVapcdVc"
      },
      "source": [
        "```{note}\n",
        "`shape` is one of the several [attributes related to a pandas DataFrame](https://pandas.pydata.org/pandas-docs/stable/reference/frame.html#attributes-and-underlying-data).\n",
        "```"
      ]
    },
    {
      "cell_type": "markdown",
      "metadata": {
        "id": "pRgbnuMzcdVc"
      },
      "source": [
        "**We can also check the column names we have in our DataFrame.** We already saw the column names when we checked the 5 first rows using `data.head()`, but often it is useful to access the column names directly. You can check the column names by calling `data.columns` (returns an index object that contains the column labels) or `data.columns.values`:"
      ]
    },
    {
      "cell_type": "code",
      "execution_count": null,
      "metadata": {
        "jupyter": {
          "outputs_hidden": false
        },
        "id": "KZRgfpxJcdVc",
        "outputId": "13b88857-b3b4-44fb-a9eb-e6f901c144f3"
      },
      "outputs": [
        {
          "data": {
            "text/plain": [
              "array(['STATION', 'DATE', 'TAVG', 'TMAX', 'TMIN'], dtype=object)"
            ]
          },
          "execution_count": 26,
          "metadata": {},
          "output_type": "execute_result"
        }
      ],
      "source": [
        "# Print column names\n",
        "df.columns.values"
      ]
    },
    {
      "cell_type": "markdown",
      "metadata": {
        "id": "pMC38dh2cdVc"
      },
      "source": [
        "We can also find information about the row identifiers using the `index` attribute:"
      ]
    },
    {
      "cell_type": "code",
      "execution_count": null,
      "metadata": {
        "jupyter": {
          "outputs_hidden": false
        },
        "id": "HM75t4j0cdVc",
        "outputId": "217f941a-5e04-40ca-eb17-31f81d7eddc8"
      },
      "outputs": [
        {
          "data": {
            "text/plain": [
              "RangeIndex(start=0, stop=18, step=1)"
            ]
          },
          "execution_count": 27,
          "metadata": {},
          "output_type": "execute_result"
        }
      ],
      "source": [
        "# Print index\n",
        "df.index"
      ]
    },
    {
      "cell_type": "markdown",
      "metadata": {
        "id": "eYuD5reucdVc"
      },
      "source": [
        "Here we see how the data is indexed, starting at 0, ending at 30, and with an increment of 1 between each value. This is basically the same way in which Python lists are indexed, however, pandas also allows other ways of identifying the rows. DataFrame indices could, for example, be character strings, or date objects. We will learn more about resetting the index later."
      ]
    },
    {
      "cell_type": "markdown",
      "metadata": {
        "id": "6hDb0A6XcdVc"
      },
      "source": [
        "What about the data types of each column in our DataFrame? We can check the data type of all columns at once using `pandas.DataFrame.dtypes`:"
      ]
    },
    {
      "cell_type": "code",
      "execution_count": null,
      "metadata": {
        "jupyter": {
          "outputs_hidden": false
        },
        "id": "vw91dyoycdVd",
        "outputId": "b940ce97-7842-4bf8-c848-efb664cd3b7b"
      },
      "outputs": [
        {
          "data": {
            "text/plain": [
              "STATION     object\n",
              "DATE         int64\n",
              "TAVG         int64\n",
              "TMAX       float64\n",
              "TMIN       float64\n",
              "dtype: object"
            ]
          },
          "execution_count": 28,
          "metadata": {},
          "output_type": "execute_result"
        }
      ],
      "source": [
        "# Print data types\n",
        "df.dtypes"
      ]
    },
    {
      "cell_type": "markdown",
      "metadata": {
        "id": "v1gdFmI8cdVd"
      },
      "source": [
        "Here we see that `DATE` is an integer value (with 64-bit precision; `int64`), while the other values are all decimal values with 64-bit precision (`float64`), except for TAVG which is `int64` as well."
      ]
    },
    {
      "cell_type": "markdown",
      "metadata": {
        "id": "uUe-altgcdVd"
      },
      "source": [
        "#### Check your understanding\n",
        "\n",
        "See if you can find a way to print out the number of columns in our DataFrame."
      ]
    },
    {
      "cell_type": "code",
      "execution_count": null,
      "metadata": {
        "tags": [
          "hide-cell"
        ],
        "id": "84d6rrQycdVd",
        "outputId": "291d4133-3b57-414d-f86f-503443ba725a"
      },
      "outputs": [
        {
          "data": {
            "text/plain": [
              "5"
            ]
          },
          "execution_count": 29,
          "metadata": {},
          "output_type": "execute_result"
        }
      ],
      "source": [
        "# Here is one solution\n",
        "len(df.columns)"
      ]
    },
    {
      "cell_type": "markdown",
      "metadata": {
        "id": "pQTIQqjucdVd"
      },
      "source": [
        "## Selecting columns\n",
        "\n",
        "We can select specific columns based on the column values. The basic syntax is `dataframe[value]`, where value can be a single column name, or a list of column names. Let's start by selecting two columns, `'YEARMODA'` and `'TEMP'`:"
      ]
    },
    {
      "cell_type": "code",
      "execution_count": null,
      "metadata": {
        "id": "0u1LAyZ-cdVd"
      },
      "outputs": [],
      "source": [
        "selection = df[[\"DATE\", \"TAVG\"]]"
      ]
    },
    {
      "cell_type": "code",
      "execution_count": null,
      "metadata": {
        "id": "XAmH3n7wcdVd",
        "outputId": "070acfc8-00cf-4f26-dbf4-81b3cb63f35a"
      },
      "outputs": [
        {
          "data": {
            "text/html": [
              "<div>\n",
              "<style scoped>\n",
              "    .dataframe tbody tr th:only-of-type {\n",
              "        vertical-align: middle;\n",
              "    }\n",
              "\n",
              "    .dataframe tbody tr th {\n",
              "        vertical-align: top;\n",
              "    }\n",
              "\n",
              "    .dataframe thead th {\n",
              "        text-align: right;\n",
              "    }\n",
              "</style>\n",
              "<table border=\"1\" class=\"dataframe\">\n",
              "  <thead>\n",
              "    <tr style=\"text-align: right;\">\n",
              "      <th></th>\n",
              "      <th>DATE</th>\n",
              "      <th>TAVG</th>\n",
              "    </tr>\n",
              "  </thead>\n",
              "  <tbody>\n",
              "    <tr>\n",
              "      <th>0</th>\n",
              "      <td>20220301</td>\n",
              "      <td>34</td>\n",
              "    </tr>\n",
              "    <tr>\n",
              "      <th>1</th>\n",
              "      <td>20220302</td>\n",
              "      <td>35</td>\n",
              "    </tr>\n",
              "    <tr>\n",
              "      <th>2</th>\n",
              "      <td>20220304</td>\n",
              "      <td>28</td>\n",
              "    </tr>\n",
              "    <tr>\n",
              "      <th>3</th>\n",
              "      <td>20220305</td>\n",
              "      <td>30</td>\n",
              "    </tr>\n",
              "    <tr>\n",
              "      <th>4</th>\n",
              "      <td>20220306</td>\n",
              "      <td>34</td>\n",
              "    </tr>\n",
              "    <tr>\n",
              "      <th>5</th>\n",
              "      <td>20220308</td>\n",
              "      <td>29</td>\n",
              "    </tr>\n",
              "    <tr>\n",
              "      <th>6</th>\n",
              "      <td>20220310</td>\n",
              "      <td>29</td>\n",
              "    </tr>\n",
              "    <tr>\n",
              "      <th>7</th>\n",
              "      <td>20220311</td>\n",
              "      <td>29</td>\n",
              "    </tr>\n",
              "    <tr>\n",
              "      <th>8</th>\n",
              "      <td>20220312</td>\n",
              "      <td>33</td>\n",
              "    </tr>\n",
              "    <tr>\n",
              "      <th>9</th>\n",
              "      <td>20220313</td>\n",
              "      <td>35</td>\n",
              "    </tr>\n",
              "    <tr>\n",
              "      <th>10</th>\n",
              "      <td>20220314</td>\n",
              "      <td>36</td>\n",
              "    </tr>\n",
              "    <tr>\n",
              "      <th>11</th>\n",
              "      <td>20220321</td>\n",
              "      <td>35</td>\n",
              "    </tr>\n",
              "    <tr>\n",
              "      <th>12</th>\n",
              "      <td>20220322</td>\n",
              "      <td>37</td>\n",
              "    </tr>\n",
              "    <tr>\n",
              "      <th>13</th>\n",
              "      <td>20220323</td>\n",
              "      <td>39</td>\n",
              "    </tr>\n",
              "    <tr>\n",
              "      <th>14</th>\n",
              "      <td>20220324</td>\n",
              "      <td>41</td>\n",
              "    </tr>\n",
              "    <tr>\n",
              "      <th>15</th>\n",
              "      <td>20220327</td>\n",
              "      <td>43</td>\n",
              "    </tr>\n",
              "    <tr>\n",
              "      <th>16</th>\n",
              "      <td>20220330</td>\n",
              "      <td>28</td>\n",
              "    </tr>\n",
              "    <tr>\n",
              "      <th>17</th>\n",
              "      <td>20220331</td>\n",
              "      <td>30</td>\n",
              "    </tr>\n",
              "  </tbody>\n",
              "</table>\n",
              "</div>"
            ],
            "text/plain": [
              "        DATE  TAVG\n",
              "0   20220301    34\n",
              "1   20220302    35\n",
              "2   20220304    28\n",
              "3   20220305    30\n",
              "4   20220306    34\n",
              "5   20220308    29\n",
              "6   20220310    29\n",
              "7   20220311    29\n",
              "8   20220312    33\n",
              "9   20220313    35\n",
              "10  20220314    36\n",
              "11  20220321    35\n",
              "12  20220322    37\n",
              "13  20220323    39\n",
              "14  20220324    41\n",
              "15  20220327    43\n",
              "16  20220330    28\n",
              "17  20220331    30"
            ]
          },
          "execution_count": 31,
          "metadata": {},
          "output_type": "execute_result"
        }
      ],
      "source": [
        "selection"
      ]
    },
    {
      "cell_type": "markdown",
      "metadata": {
        "id": "rFZRIhFGcdVd"
      },
      "source": [
        "Let's also check the data type of this selection:"
      ]
    },
    {
      "cell_type": "code",
      "execution_count": null,
      "metadata": {
        "id": "21xI-U0-cdVd",
        "outputId": "3208dbfa-748d-44ae-94f3-3cabd6eced7a"
      },
      "outputs": [
        {
          "data": {
            "text/plain": [
              "pandas.core.frame.DataFrame"
            ]
          },
          "execution_count": 32,
          "metadata": {},
          "output_type": "execute_result"
        }
      ],
      "source": [
        "type(selection)"
      ]
    },
    {
      "cell_type": "markdown",
      "metadata": {
        "id": "LOgNn5m1cdVd"
      },
      "source": [
        "The subset is still a pandas DataFrame, and we are able to use all the methods and attributes related to a pandas DataFrame also with this subset. For example, we can check the shape:"
      ]
    },
    {
      "cell_type": "code",
      "execution_count": null,
      "metadata": {
        "id": "tUPO4SMZcdVd",
        "outputId": "4d3bfeb0-50af-4a9e-ea64-42ce85436ced"
      },
      "outputs": [
        {
          "data": {
            "text/plain": [
              "(18, 2)"
            ]
          },
          "execution_count": 33,
          "metadata": {},
          "output_type": "execute_result"
        }
      ],
      "source": [
        "selection.shape"
      ]
    },
    {
      "cell_type": "markdown",
      "metadata": {
        "id": "V7lEEH9tcdVd"
      },
      "source": [
        "We can also access a single column of the data based on the column name:"
      ]
    },
    {
      "cell_type": "code",
      "execution_count": null,
      "metadata": {
        "jupyter": {
          "outputs_hidden": false
        },
        "id": "JDihliqwcdVd",
        "outputId": "7df02e15-a3ee-4102-da0e-2e7b30af8136"
      },
      "outputs": [
        {
          "data": {
            "text/plain": [
              "0     34\n",
              "1     35\n",
              "2     28\n",
              "3     30\n",
              "4     34\n",
              "5     29\n",
              "6     29\n",
              "7     29\n",
              "8     33\n",
              "9     35\n",
              "10    36\n",
              "11    35\n",
              "12    37\n",
              "13    39\n",
              "14    41\n",
              "15    43\n",
              "16    28\n",
              "17    30\n",
              "Name: TAVG, dtype: int64"
            ]
          },
          "execution_count": 34,
          "metadata": {},
          "output_type": "execute_result"
        }
      ],
      "source": [
        "df[\"TAVG\"]"
      ]
    },
    {
      "cell_type": "markdown",
      "metadata": {
        "id": "_v0W8Tz1cdVd"
      },
      "source": [
        "What about the type of the column itself?"
      ]
    },
    {
      "cell_type": "code",
      "execution_count": null,
      "metadata": {
        "jupyter": {
          "outputs_hidden": false
        },
        "id": "AVfOhiXwcdVd",
        "outputId": "63f2234c-7289-43b3-a1c9-91c5f69662eb"
      },
      "outputs": [
        {
          "data": {
            "text/plain": [
              "pandas.core.series.Series"
            ]
          },
          "execution_count": 35,
          "metadata": {},
          "output_type": "execute_result"
        }
      ],
      "source": [
        "# Check datatype of the column\n",
        "type(df[\"TAVG\"])"
      ]
    },
    {
      "cell_type": "markdown",
      "metadata": {
        "id": "b8JC3iggcdVe"
      },
      "source": [
        "**Each column (and each row) in a pandas data frame is actually a pandas Series** - a 1 dimensional data structure!"
      ]
    },
    {
      "cell_type": "markdown",
      "metadata": {
        "id": "Ar9gBW1HcdVe"
      },
      "source": [
        "````{note}\n",
        "You can also retreive a column using a different syntax:\n",
        "    \n",
        "```\n",
        "data.TEMP\n",
        "```\n",
        "\n",
        "This syntax works only if the column name is a valid name for a Python variable (e.g. the column name should not contain whitespace).\n",
        "The syntax `data[\"column\"]` works for all kinds of column names, so we recommend using this approach.\n",
        "````"
      ]
    },
    {
      "cell_type": "markdown",
      "metadata": {
        "id": "Av_TWnQTcdVe"
      },
      "source": [
        "## Descriptive statistics\n",
        "\n",
        "pandas DataFrames and Series contain useful methods for getting summary statistics. Available methods include `mean()`, `median()`, `min()`, `max()`, and `std()` (the standard deviation).\n",
        "\n",
        "We could, for example, check the mean temperature in our input data. We check the mean for a single column (*Series*):"
      ]
    },
    {
      "cell_type": "code",
      "execution_count": null,
      "metadata": {
        "jupyter": {
          "outputs_hidden": false
        },
        "id": "ZegGXqLPcdVe",
        "outputId": "23a16a48-d9c9-4827-f24d-b05ee1470798"
      },
      "outputs": [
        {
          "data": {
            "text/plain": [
              "33.611111111111114"
            ]
          },
          "execution_count": 36,
          "metadata": {},
          "output_type": "execute_result"
        }
      ],
      "source": [
        "# Check mean value of a column\n",
        "df[\"TAVG\"].mean()"
      ]
    },
    {
      "cell_type": "markdown",
      "metadata": {
        "id": "vYs9oFHVcdVe"
      },
      "source": [
        "and for all columns (in the *DataFrame*):"
      ]
    },
    {
      "cell_type": "code",
      "execution_count": null,
      "metadata": {
        "id": "5f5lVLQtcdVe",
        "outputId": "f5175275-bea0-4adf-e9d5-d59af3ce364b"
      },
      "outputs": [
        {
          "name": "stderr",
          "output_type": "stream",
          "text": [
            "C:\\Users\\Stef\\AppData\\Local\\Temp\\ipykernel_8300\\2571376894.py:2: FutureWarning: Dropping of nuisance columns in DataFrame reductions (with 'numeric_only=None') is deprecated; in a future version this will raise TypeError.  Select only valid columns before calling the reduction.\n",
            "  df.mean()\n"
          ]
        },
        {
          "data": {
            "text/plain": [
              "DATE    2.022031e+07\n",
              "TAVG    3.361111e+01\n",
              "TMAX    4.538889e+01\n",
              "TMIN    2.161111e+01\n",
              "dtype: float64"
            ]
          },
          "execution_count": 37,
          "metadata": {},
          "output_type": "execute_result"
        }
      ],
      "source": [
        "# Check mean value for all columns\n",
        "df.mean()"
      ]
    },
    {
      "cell_type": "markdown",
      "metadata": {
        "id": "FgcpuFFFcdVe"
      },
      "source": [
        "For an overview of the basic statistics for all attributes in the data, we can use the `describe()` method:\n"
      ]
    },
    {
      "cell_type": "code",
      "execution_count": null,
      "metadata": {
        "jupyter": {
          "outputs_hidden": false
        },
        "id": "TgHAp_wScdVe",
        "outputId": "1a1cbf4e-1de1-46dd-b7ab-3315ec2ee13d"
      },
      "outputs": [
        {
          "data": {
            "text/html": [
              "<div>\n",
              "<style scoped>\n",
              "    .dataframe tbody tr th:only-of-type {\n",
              "        vertical-align: middle;\n",
              "    }\n",
              "\n",
              "    .dataframe tbody tr th {\n",
              "        vertical-align: top;\n",
              "    }\n",
              "\n",
              "    .dataframe thead th {\n",
              "        text-align: right;\n",
              "    }\n",
              "</style>\n",
              "<table border=\"1\" class=\"dataframe\">\n",
              "  <thead>\n",
              "    <tr style=\"text-align: right;\">\n",
              "      <th></th>\n",
              "      <th>DATE</th>\n",
              "      <th>TAVG</th>\n",
              "      <th>TMAX</th>\n",
              "      <th>TMIN</th>\n",
              "    </tr>\n",
              "  </thead>\n",
              "  <tbody>\n",
              "    <tr>\n",
              "      <th>count</th>\n",
              "      <td>1.800000e+01</td>\n",
              "      <td>18.000000</td>\n",
              "      <td>18.000000</td>\n",
              "      <td>18.000000</td>\n",
              "    </tr>\n",
              "    <tr>\n",
              "      <th>mean</th>\n",
              "      <td>2.022031e+07</td>\n",
              "      <td>33.611111</td>\n",
              "      <td>45.388889</td>\n",
              "      <td>21.611111</td>\n",
              "    </tr>\n",
              "    <tr>\n",
              "      <th>std</th>\n",
              "      <td>9.773915e+00</td>\n",
              "      <td>4.526249</td>\n",
              "      <td>6.362934</td>\n",
              "      <td>4.016713</td>\n",
              "    </tr>\n",
              "    <tr>\n",
              "      <th>min</th>\n",
              "      <td>2.022030e+07</td>\n",
              "      <td>28.000000</td>\n",
              "      <td>32.000000</td>\n",
              "      <td>13.000000</td>\n",
              "    </tr>\n",
              "    <tr>\n",
              "      <th>25%</th>\n",
              "      <td>2.022031e+07</td>\n",
              "      <td>29.250000</td>\n",
              "      <td>41.000000</td>\n",
              "      <td>19.250000</td>\n",
              "    </tr>\n",
              "    <tr>\n",
              "      <th>50%</th>\n",
              "      <td>2.022031e+07</td>\n",
              "      <td>34.000000</td>\n",
              "      <td>47.000000</td>\n",
              "      <td>20.500000</td>\n",
              "    </tr>\n",
              "    <tr>\n",
              "      <th>75%</th>\n",
              "      <td>2.022032e+07</td>\n",
              "      <td>35.750000</td>\n",
              "      <td>49.000000</td>\n",
              "      <td>24.750000</td>\n",
              "    </tr>\n",
              "    <tr>\n",
              "      <th>max</th>\n",
              "      <td>2.022033e+07</td>\n",
              "      <td>43.000000</td>\n",
              "      <td>56.000000</td>\n",
              "      <td>28.000000</td>\n",
              "    </tr>\n",
              "  </tbody>\n",
              "</table>\n",
              "</div>"
            ],
            "text/plain": [
              "               DATE       TAVG       TMAX       TMIN\n",
              "count  1.800000e+01  18.000000  18.000000  18.000000\n",
              "mean   2.022031e+07  33.611111  45.388889  21.611111\n",
              "std    9.773915e+00   4.526249   6.362934   4.016713\n",
              "min    2.022030e+07  28.000000  32.000000  13.000000\n",
              "25%    2.022031e+07  29.250000  41.000000  19.250000\n",
              "50%    2.022031e+07  34.000000  47.000000  20.500000\n",
              "75%    2.022032e+07  35.750000  49.000000  24.750000\n",
              "max    2.022033e+07  43.000000  56.000000  28.000000"
            ]
          },
          "execution_count": 38,
          "metadata": {},
          "output_type": "execute_result"
        }
      ],
      "source": [
        "# Get descriptive statistics\n",
        "df.describe()"
      ]
    },
    {
      "cell_type": "markdown",
      "metadata": {
        "id": "t5BlaQd3cdVe"
      },
      "source": [
        "#### Check your understanding\n",
        "\n",
        "It doesn't make much sense to print out descriptive statistics for the `YEARMODA` column now that the values are stored as integer values (and not datetime objects, which we will learn about in later lessons).\n",
        "\n",
        "See if you can print out the descriptive statistics again, this time only for columns `TEMP`, `MAX`, `MIN`:"
      ]
    },
    {
      "cell_type": "code",
      "execution_count": null,
      "metadata": {
        "tags": [
          "hide-cell"
        ],
        "id": "XL-Kqbr5cdVe",
        "outputId": "d7e88f08-fb8d-4187-9d08-b765727ca28e"
      },
      "outputs": [
        {
          "data": {
            "text/html": [
              "<div>\n",
              "<style scoped>\n",
              "    .dataframe tbody tr th:only-of-type {\n",
              "        vertical-align: middle;\n",
              "    }\n",
              "\n",
              "    .dataframe tbody tr th {\n",
              "        vertical-align: top;\n",
              "    }\n",
              "\n",
              "    .dataframe thead th {\n",
              "        text-align: right;\n",
              "    }\n",
              "</style>\n",
              "<table border=\"1\" class=\"dataframe\">\n",
              "  <thead>\n",
              "    <tr style=\"text-align: right;\">\n",
              "      <th></th>\n",
              "      <th>TAVG</th>\n",
              "      <th>TMAX</th>\n",
              "      <th>TMIN</th>\n",
              "    </tr>\n",
              "  </thead>\n",
              "  <tbody>\n",
              "    <tr>\n",
              "      <th>count</th>\n",
              "      <td>18.000000</td>\n",
              "      <td>18.000000</td>\n",
              "      <td>18.000000</td>\n",
              "    </tr>\n",
              "    <tr>\n",
              "      <th>mean</th>\n",
              "      <td>33.611111</td>\n",
              "      <td>45.388889</td>\n",
              "      <td>21.611111</td>\n",
              "    </tr>\n",
              "    <tr>\n",
              "      <th>std</th>\n",
              "      <td>4.526249</td>\n",
              "      <td>6.362934</td>\n",
              "      <td>4.016713</td>\n",
              "    </tr>\n",
              "    <tr>\n",
              "      <th>min</th>\n",
              "      <td>28.000000</td>\n",
              "      <td>32.000000</td>\n",
              "      <td>13.000000</td>\n",
              "    </tr>\n",
              "    <tr>\n",
              "      <th>25%</th>\n",
              "      <td>29.250000</td>\n",
              "      <td>41.000000</td>\n",
              "      <td>19.250000</td>\n",
              "    </tr>\n",
              "    <tr>\n",
              "      <th>50%</th>\n",
              "      <td>34.000000</td>\n",
              "      <td>47.000000</td>\n",
              "      <td>20.500000</td>\n",
              "    </tr>\n",
              "    <tr>\n",
              "      <th>75%</th>\n",
              "      <td>35.750000</td>\n",
              "      <td>49.000000</td>\n",
              "      <td>24.750000</td>\n",
              "    </tr>\n",
              "    <tr>\n",
              "      <th>max</th>\n",
              "      <td>43.000000</td>\n",
              "      <td>56.000000</td>\n",
              "      <td>28.000000</td>\n",
              "    </tr>\n",
              "  </tbody>\n",
              "</table>\n",
              "</div>"
            ],
            "text/plain": [
              "            TAVG       TMAX       TMIN\n",
              "count  18.000000  18.000000  18.000000\n",
              "mean   33.611111  45.388889  21.611111\n",
              "std     4.526249   6.362934   4.016713\n",
              "min    28.000000  32.000000  13.000000\n",
              "25%    29.250000  41.000000  19.250000\n",
              "50%    34.000000  47.000000  20.500000\n",
              "75%    35.750000  49.000000  24.750000\n",
              "max    43.000000  56.000000  28.000000"
            ]
          },
          "execution_count": 39,
          "metadata": {},
          "output_type": "execute_result"
        }
      ],
      "source": [
        "# Here is the solution\n",
        "df[[\"TAVG\", \"TMAX\", \"TMIN\"]].describe()"
      ]
    },
    {
      "cell_type": "markdown",
      "metadata": {
        "id": "O92UCJ_McdVe"
      },
      "source": [
        "## Extra: Very basic plots\n",
        "\n",
        "Visualizing the data is a key part of data exploration, and pandas comes with a handful of plotting methods, which all rely on the [Matplotlib](https://matplotlib.org/) plotting library.\n",
        "\n",
        "For very basic plots, we don’t need to import Matplotlib separately. We can already create very simple plots using the `DataFrame.plot` method.\n",
        "\n",
        "Let's plot all the columns that contain values related to temperatures:"
      ]
    },
    {
      "cell_type": "code",
      "execution_count": null,
      "metadata": {
        "id": "k5m8rnxycdVe",
        "outputId": "638b6d33-d371-40a5-cb4e-d0a2d41f6518"
      },
      "outputs": [
        {
          "data": {
            "text/plain": [
              "<AxesSubplot:>"
            ]
          },
          "execution_count": 40,
          "metadata": {},
          "output_type": "execute_result"
        },
        {
          "data": {
            "image/png": "[encoded data removed]",
            "text/plain": [
              "<Figure size 432x288 with 1 Axes>"
            ]
          },
          "metadata": {
            "needs_background": "light"
          },
          "output_type": "display_data"
        }
      ],
      "source": [
        "df[[\"TAVG\", \"TMAX\", \"TMIN\"]].plot()"
      ]
    },
    {
      "cell_type": "markdown",
      "metadata": {
        "id": "KnJLmGqRcdVf"
      },
      "source": [
        "## Extra: From lists to pandas objects\n",
        "\n",
        "Most often we create pandas objects by reading in data from an external source, such as a text file. Here, we will briefly see how you can create pandas objects from Python lists. If you have long lists of numbers, for instance, creating a pandas Series will allow you to interact with these values more efficiently in terms of computing time."
      ]
    },
    {
      "cell_type": "code",
      "execution_count": null,
      "metadata": {
        "jupyter": {
          "outputs_hidden": false
        },
        "id": "0pwrpNaAcdVf",
        "outputId": "c2c99237-ef10-4439-9ecc-2f03914327c9"
      },
      "outputs": [
        {
          "name": "stdout",
          "output_type": "stream",
          "text": [
            "0    4.0\n",
            "1    5.0\n",
            "2    6.0\n",
            "3    7.0\n",
            "dtype: float64\n"
          ]
        }
      ],
      "source": [
        "# Create pandas Series from a list\n",
        "number_series = pd.Series([4, 5, 6, 7.0])\n",
        "print(number_series)"
      ]
    },
    {
      "cell_type": "markdown",
      "metadata": {
        "id": "Pc2gxGXycdVf"
      },
      "source": [
        "Note that pandas is smart about the conversion, detecting a single floating point value (`7.0`) and assigning all values in the Series the data type `float64`."
      ]
    },
    {
      "cell_type": "markdown",
      "metadata": {
        "id": "JaXWNsLqcdVf"
      },
      "source": [
        "If needed, you can also set a custom index when creating the object:"
      ]
    },
    {
      "cell_type": "code",
      "execution_count": null,
      "metadata": {
        "id": "WXb7vUCGcdVf",
        "outputId": "342bb0fb-ff43-4b04-abc1-36ef43caebce"
      },
      "outputs": [
        {
          "name": "stdout",
          "output_type": "stream",
          "text": [
            "a    4.0\n",
            "b    5.0\n",
            "c    6.0\n",
            "d    7.0\n",
            "dtype: float64\n"
          ]
        }
      ],
      "source": [
        "number_series = pd.Series([4, 5, 6, 7.0], index=[\"a\", \"b\", \"c\", \"d\"])\n",
        "print(number_series)"
      ]
    },
    {
      "cell_type": "code",
      "execution_count": null,
      "metadata": {
        "id": "ZGmcOOaJcdVf",
        "outputId": "89b9cded-9051-4b22-d911-139ae58b6753"
      },
      "outputs": [
        {
          "data": {
            "text/plain": [
              "pandas.core.series.Series"
            ]
          },
          "execution_count": 43,
          "metadata": {},
          "output_type": "execute_result"
        }
      ],
      "source": [
        "type(number_series)"
      ]
    },
    {
      "cell_type": "markdown",
      "metadata": {
        "id": "IuYeVL0VcdVf"
      },
      "source": [
        "How about combining several lists as a DataFrame? Let's take a subset of the lists we used in Exercise 3, problem 3 and see how we could combine those as a pandas DataFrame:"
      ]
    },
    {
      "cell_type": "code",
      "execution_count": null,
      "metadata": {
        "id": "62ddnsdmcdVf"
      },
      "outputs": [],
      "source": [
        "# Station names\n",
        "stations = [\n",
        "    \"Karlstad\",\n",
        "    \"Stockholm\",\n",
        "    \"Malmo\",\n",
        "    \"Gothenburg\",\n",
        "]\n",
        "\n",
        "# Latitude coordinates of Weather stations\n",
        "lats = [59.77, 61.2, 60.18, 60.25]\n",
        "\n",
        "# Longitude coordinates of Weather stations\n",
        "lons = [22.95, 26.05, 24.94, 25.05]"
      ]
    },
    {
      "cell_type": "markdown",
      "metadata": {
        "id": "L2yFb9pMcdVf"
      },
      "source": [
        "Often we indeed create pandas DataFrames by reading in data (e.g. using `pd.read_csv(filename.csv)`), but sometimes you might also combine lists into a DataFrame inside the script using the `pandas.DataFrame` constructor. Here, we are using a *Python dictionary* `{\"column_1\": list_1, \"column_2\": list_2, ...}` to indicate the structure of our data."
      ]
    },
    {
      "cell_type": "code",
      "execution_count": null,
      "metadata": {
        "id": "Vp9KmfKQcdVf",
        "outputId": "f4b951bb-bd87-4f57-ad17-daefedc953dd"
      },
      "outputs": [
        {
          "data": {
            "text/html": [
              "<div>\n",
              "<style scoped>\n",
              "    .dataframe tbody tr th:only-of-type {\n",
              "        vertical-align: middle;\n",
              "    }\n",
              "\n",
              "    .dataframe tbody tr th {\n",
              "        vertical-align: top;\n",
              "    }\n",
              "\n",
              "    .dataframe thead th {\n",
              "        text-align: right;\n",
              "    }\n",
              "</style>\n",
              "<table border=\"1\" class=\"dataframe\">\n",
              "  <thead>\n",
              "    <tr style=\"text-align: right;\">\n",
              "      <th></th>\n",
              "      <th>station_name</th>\n",
              "      <th>lat</th>\n",
              "      <th>lon</th>\n",
              "    </tr>\n",
              "  </thead>\n",
              "  <tbody>\n",
              "    <tr>\n",
              "      <th>0</th>\n",
              "      <td>Karlstad</td>\n",
              "      <td>59.77</td>\n",
              "      <td>22.95</td>\n",
              "    </tr>\n",
              "    <tr>\n",
              "      <th>1</th>\n",
              "      <td>Stockholm</td>\n",
              "      <td>61.20</td>\n",
              "      <td>26.05</td>\n",
              "    </tr>\n",
              "    <tr>\n",
              "      <th>2</th>\n",
              "      <td>Malmo</td>\n",
              "      <td>60.18</td>\n",
              "      <td>24.94</td>\n",
              "    </tr>\n",
              "    <tr>\n",
              "      <th>3</th>\n",
              "      <td>Gothenburg</td>\n",
              "      <td>60.25</td>\n",
              "      <td>25.05</td>\n",
              "    </tr>\n",
              "  </tbody>\n",
              "</table>\n",
              "</div>"
            ],
            "text/plain": [
              "  station_name    lat    lon\n",
              "0     Karlstad  59.77  22.95\n",
              "1    Stockholm  61.20  26.05\n",
              "2        Malmo  60.18  24.94\n",
              "3   Gothenburg  60.25  25.05"
            ]
          },
          "execution_count": 45,
          "metadata": {},
          "output_type": "execute_result"
        }
      ],
      "source": [
        "new_data = pd.DataFrame(data={\"station_name\": stations, \"lat\": lats, \"lon\": lons})\n",
        "new_data"
      ]
    },
    {
      "cell_type": "code",
      "execution_count": null,
      "metadata": {
        "id": "SE-BNY1CcdVf",
        "outputId": "9f35e26e-aeaa-4bf4-8c5b-a8b93faa0a68"
      },
      "outputs": [
        {
          "data": {
            "text/plain": [
              "pandas.core.frame.DataFrame"
            ]
          },
          "execution_count": 46,
          "metadata": {},
          "output_type": "execute_result"
        }
      ],
      "source": [
        "type(new_data)"
      ]
    },
    {
      "cell_type": "markdown",
      "metadata": {
        "id": "fYv5HNJmcdVf"
      },
      "source": [
        "Often, you might start working with an empty data frame instead of existing lists:"
      ]
    },
    {
      "cell_type": "code",
      "execution_count": null,
      "metadata": {
        "id": "EkMcNkZgcdVf"
      },
      "outputs": [],
      "source": [
        "df = pd.DataFrame()"
      ]
    },
    {
      "cell_type": "code",
      "execution_count": null,
      "metadata": {
        "id": "z_u6HEX5cdVg",
        "outputId": "07a00ebd-a908-45f7-816c-27e18245a217"
      },
      "outputs": [
        {
          "name": "stdout",
          "output_type": "stream",
          "text": [
            "Empty DataFrame\n",
            "Columns: []\n",
            "Index: []\n"
          ]
        }
      ],
      "source": [
        "print(df)"
      ]
    },
    {
      "cell_type": "markdown",
      "metadata": {
        "id": "xX2VVKy5cdVg"
      },
      "source": [
        "Check more details about available paramenters and methods from [the pandas.DataFrame documentation](https://pandas.pydata.org/pandas-docs/stable/reference/api/pandas.DataFrame.html#pandas-dataframe)."
      ]
    }
  ],
  "metadata": {
    "anaconda-cloud": {},
    "kernelspec": {
      "display_name": "Python 3 (ipykernel)",
      "language": "python",
      "name": "python3"
    },
    "language_info": {
      "codemirror_mode": {
        "name": "ipython",
        "version": 3
      },
      "file_extension": ".py",
      "mimetype": "text/x-python",
      "name": "python",
      "nbconvert_exporter": "python",
      "pygments_lexer": "ipython3",
      "version": "3.9.12"
    },
    "colab": {
      "provenance": []
    }
  },
  "nbformat": 4,
  "nbformat_minor": 0
}