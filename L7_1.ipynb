{
 "cells": [
  {
   "cell_type": "markdown",
   "metadata": {},
   "source": [
    "# Basic plotting with pandas and Matplotlib\n",
    "\n",
    "### Sources\n",
    "\n",
    "This lesson is inspired by the [Programming in Python lessons](http://swcarpentry.github.io/python-novice-inflammation/) from the [Software Carpentry organization](http://software-carpentry.org) and has adapted or reused material from University of Helsinki Geo-python course (https://geo-python-site.readthedocs.io/en/latest/course-info/licensing.html ) under a Creative Commons Attribution-ShareAlike 4.0 International licence (https://creativecommons.org/licenses/by-sa/4.0/deed.en). \n"
   ]
  },
  {
   "cell_type": "markdown",
   "metadata": {},
   "source": [
    "## Input data\n",
    "\n",
    "In this lesson we will use climate data from Nordic countries between 2015-2019. The dataset is available in Kaggle.\n",
    "\n",
    "\n"
   ]
  },
  {
   "cell_type": "markdown",
   "metadata": {},
   "source": [
    "## Getting started\n",
    "\n",
    "Let's start by importing Pandas and reading our data file."
   ]
  },
  {
   "cell_type": "code",
   "execution_count": null,
   "metadata": {},
   "outputs": [],
   "source": [
    "import pandas as pd\n",
    "import matplotlib.pyplot as plt"
   ]
  },
  {
   "cell_type": "markdown",
   "metadata": {},
   "source": [
    "\n",
    "\n",
    "Just as we did last week, we'll read our data file by passing a few parameters to the Pandas `read_csv()` function. In this case, however, we'll include a few additional parameters in order to read the data with a *datetime index*. Let's read the data first, then see what happened."
   ]
  },
  {
   "cell_type": "code",
   "execution_count": null,
   "metadata": {
    "tags": [
     "hide-cell"
    ]
   },
   "outputs": [],
   "source": [
    "\n",
    "# define path to file\n",
    "fp = r\"nordics_weather.csv\""
   ]
  },
  {
   "cell_type": "code",
   "execution_count": null,
   "metadata": {},
   "outputs": [],
   "source": [
    "data = pd.read_csv(\n",
    "    fp,\n",
    "    na_values=[\"*\", \"**\", \"***\", \"****\", \"*****\", \"******\"],\n",
    "    usecols=[\"country\", \"date\", \"precipitation\",\"snow_depth\", \"tavg\", \"tmax\", \"tmin\"],\n",
    "    parse_dates=[\"date\"],\n",
    "    index_col=\"date\",\n",
    ")"
   ]
  },
  {
   "cell_type": "markdown",
   "metadata": {},
   "source": [
    "So what's different here? Well, we have added two new parameters: `parse_dates` and `index_col`.\n",
    "\n",
    "- `parse_dates` takes a Python list of column name(s) containing date data that Pandas will parse and convert to the *datetime* data type. For many common date formats this parameter will automatically recognize and convert the date data.\n",
    "- `index_col` is used to state a column that should be used to index the data in the DataFrame. In this case, we end up with our date data as the DataFrame index. This is a very useful feature in Pandas as we'll see below.\n",
    "\n",
    "Having read in the data, let's have a quick look at what we have using `data.head()`."
   ]
  },
  {
   "cell_type": "code",
   "execution_count": null,
   "metadata": {},
   "outputs": [],
   "source": [
    "data.head()"
   ]
  },
  {
   "cell_type": "markdown",
   "metadata": {},
   "source": [
    "As mentioned above, you can now see that the index column for our DataFrame (the first column) contains date values related to each row in the DataFrame."
   ]
  },
  {
   "cell_type": "markdown",
   "metadata": {},
   "source": [
    "## Basic x-y plot\n",
    "\n",
    "Now we're ready for our first plot. We can start by using the basic line plot in Pandas to look at our temperature data."
   ]
  },
  {
   "cell_type": "code",
   "execution_count": null,
   "metadata": {},
   "outputs": [],
   "source": [
    "\n",
    "ax = data.plot()"
   ]
  },
  {
   "cell_type": "markdown",
   "metadata": {},
   "source": [
    "If all goes well, you should see the plot above.\n",
    "\n",
    "OK, so what happened here?\n",
    "\n",
    "1. We first created the plot object using the `plot()` method of the `data` DataFrame. Without any parameters given, this makes the plot of all columns in the DataFrame as lines of different color on the y-axis with the index, time in this case, on the x-axis.\n",
    "2. In case we want to be able to modify the plot or add anything, we assign the plot object to the variable `ax`. We can check its type below.\n",
    "\n",
    "In fact, let's check the type of the `ax` variable now."
   ]
  },
  {
   "cell_type": "code",
   "execution_count": null,
   "metadata": {},
   "outputs": [],
   "source": [
    "type(ax)"
   ]
  },
  {
   "cell_type": "markdown",
   "metadata": {},
   "source": [
    "OK, so it looks like we have some kind of plot data type that is part of Matplotlib. Clearly, pandas is using Matplotlib for generating our plots.\n",
    "\n",
    "### Selecting our plotted data\n",
    "\n",
    "Now, let's make a few small changes to our plot and plot the data again. First, let's only plot the observed temperatures in the `data['tavg']` column, and let's restrict ourselves to observations from 2017 and onwards in Sweden. We can do this by selecting the desired data column and date range first, then plotting our selection."
   ]
  },
  {
   "cell_type": "code",
   "execution_count": null,
   "metadata": {},
   "outputs": [],
   "source": [
    "\n",
    "temps_2017 = data.loc[(data.index >= \"01-01-2017\") & (data['country'] == \"Sweden\"), [\"tavg\", \"country\"]]\n",
    "ax = temps_2017.plot()"
   ]
  },
  {
   "cell_type": "markdown",
   "metadata": {},
   "source": [
    "So, what did we change?\n",
    "\n",
    "1. Well, we selected only the `'tavg'` column now by using `data['tavg']` instead of `data`.\n",
    "2. We've added a restriction to the date range using `loc[]` to select only rows where the index value `data.index` is greater than `'2017-01-01'`.\n",
    "3. By saving this selection to the DataFrame `temps_2017` we're able to now use `temps_2017.plot()` to plot only our selection. This is cool, but we can do even better..."
   ]
  },
  {
   "cell_type": "markdown",
   "metadata": {},
   "source": [
    "## Basic plot formatting\n",
    "\n",
    "We can make our plot look a bit nicer and provide more information by using a few additional plotting options to pandas/Matplotlib."
   ]
  },
  {
   "cell_type": "code",
   "execution_count": null,
   "metadata": {},
   "outputs": [],
   "source": [
    "# Change line and symbol format, and add axis labels/title\n",
    "ax = temps_2017.plot(\n",
    "    style='r',\n",
    "    title=\"Average temperature in Sweden countries between 2017-2019\",\n",
    "    xlabel=\"Date\",\n",
    "    ylabel=\"Temperature [°C]\",\n",
    ")"
   ]
  },
  {
   "cell_type": "markdown",
   "metadata": {},
   "source": [
    "Now we see our temperature data as a red  line.\n",
    "This comes from the additional `style='r'` used with `oct1_temps.plot()`.\n",
    "In this case, `r` tells the `oct1_temps.plot()` function to use red color for the lines and symbols.\n",
    "You can use `help(oct1_temps.plot)` to find out more about formatting plots or have a look at the [documentation on the pandas website](https://pandas.pydata.org/pandas-docs/stable/reference/api/pandas.DataFrame.plot.line.html#pandas.DataFrame.plot.line).\n",
    "We have also added a title using the `title` parameter, and axis labels using the `xlabel` and `ylabel` parameters."
   ]
  },
  {
   "cell_type": "code",
   "execution_count": null,
   "metadata": {},
   "outputs": [],
   "source": [
    "help(temps_2017.plot)"
   ]
  },
  {
   "cell_type": "markdown",
   "metadata": {},
   "source": [
    "### Embiggening\\* the plot\n",
    "\n",
    "While the plot sizes we're working with are OK, it would be nice to have them displayed a bit larger.\n",
    "Fortunately, there is an easy way to make the plots larger in pandas/Matplotlib.\n",
    "We can simply add the `figsize` parameter with the desired figure size listed as a tuple (a set of values in normal parentheses) that lists the width and height of the figure (in inches!)."
   ]
  },
  {
   "cell_type": "code",
   "execution_count": null,
   "metadata": {},
   "outputs": [],
   "source": [
    "# Adjust the figure size\n",
    "ax = temps_2017.plot(\n",
    "    style='r',\n",
    "    title=\"Average temperature in Sweden between 2017-2019\",\n",
    "    xlabel=\"Date\",\n",
    "    ylabel=\"Temperature [°F]\",\n",
    "    figsize=(12, 6),\n",
    ")"
   ]
  },
  {
   "cell_type": "markdown",
   "metadata": {},
   "source": [
    "The cell above sets the default plot size to be 12 inches wide by 6 inches tall.\n",
    "Feel free to change these values if you prefer.\n",
    "\n",
    "```{note}\n",
    "It is also possible to change the default figure size for all figures in a Jupyter Notebook by importing the pyplot module from matplotlib (i.e., `import matplotlib.pyplot as plt`)and then defining the default figure size using `plt.rcParams['figure.figsize'] = [12, 6]`. In this case the figure size should be given as a Python list.\n",
    "```\n"
   ]
  },
  {
   "cell_type": "markdown",
   "metadata": {},
   "source": [
    "### Other common plot formatting operations\n",
    "\n",
    "#### Adding text to the plot\n",
    "\n",
    "Adding text to plots can be done using `ax.text()`.\n",
    "\n",
    "```python\n",
    "ax.text(x, y, 'Text to display')\n",
    "```\n",
    "\n",
    "This would display \"Text to display\" at the location *x*, *y* on the plot.\n",
    "We'll see how to do this in a live example in just a second.\n",
    "\n",
    "#### Changing the axis ranges\n",
    "\n",
    "Changing the plot axes can be done using the `xlim` and `ylim` parameters of the `plot()` function\n",
    "\n",
    "```python\n",
    "df.plot(xlim=[xmin, xmax], ylim=[ymin, ymax])\n",
    "```\n",
    "\n",
    "where `xmin` should be the minimum bound of the x-axis, `xmax` should be the maximum bound, and the same goes for the y-axis with `ymin` and `ymax`.\n"
   ]
  },
  {
   "cell_type": "code",
   "execution_count": null,
   "metadata": {},
   "outputs": [],
   "source": [
    "# Define the start, end, and cold times\n",
    "start_time = (\"08-01-2017\")\n",
    "end_time = pd.to_datetime(\"08-31-2017\")\n",
    "\n",
    "# Create the plot, including the axis limits\n",
    "\n",
    "ax = temps_2017.plot(\n",
    "    style='r',\n",
    "    title=\"Average temperature in Sweden in August 2017\",\n",
    "    xlabel=\"Date\",\n",
    "    ylabel=\"Temperature [°C]\",\n",
    "    figsize=(12, 6),\n",
    "    xlim=[start_time, end_time],\n",
    "    ylim=[-15.0, 25.0],\n",
    ")\n",
    "\n",
    "\n",
    "# Add text to display the coldest temperature\n",
    "#ax.text(cold_time, 42.0, \"<- Coldest temperature in early afternoon\")"
   ]
  },
  {
   "cell_type": "markdown",
   "metadata": {},
   "source": [
    "### Check your understanding\n",
    "\n",
    "Create a line plot similar to our examples above with the following attributes:\n",
    "    \n",
    "- Average temperature in Nordic countries in February 2017\n",
    "- A dotted black line connecting the observations (do not show the data points)\n"
   ]
  },
  {
   "cell_type": "code",
   "execution_count": null,
   "metadata": {
    "tags": [
     "hide-cell"
    ]
   },
   "outputs": [],
   "source": [
    "# Solution\n",
    "# Define start, end, and cold times\n",
    "start_time = pd.to_datetime(\"01-02-2017\")\n",
    "end_time = pd.to_datetime(\"28-02-2017\")\n",
    "# Create the plot, including the axis limits\n",
    "\n",
    "ax = temps_2017.plot(\n",
    "    style=\"k:\",\n",
    "    title=\"Average temperature in Sweden in February 2017\",\n",
    "    xlabel=\"Date\",\n",
    "    ylabel=\"Temperature [°C]\",\n",
    "    figsize=(12, 6),\n",
    "    xlim=[start_time, end_time],\n",
    "    ylim=[-25.0, 10.0],\n",
    ")\n",
    "\n",
    "# Display text on plot\n",
    "#ax.text(warm_time, 43.0, \"Warmest time of the evening ->\")"
   ]
  },
  {
   "cell_type": "markdown",
   "metadata": {},
   "source": [
    "## Bar plots in pandas\n",
    "\n",
    "In addition to line plots, there are many other options for plotting in pandas. Bar plots are one option, which can be used quite similarly to line plots with the addition of the `kind=bar` parameter. Note that it is easiest to plot our selected time range for a bar plot by selecting the dates in our data series first, rather than adjusting the plot limits. pandas sees bar plot data as categorical, so the date range is more difficult to define for x-axis limits. For the y-axis, we can still define its range using the `ylim=[ymin, ymax]` parameter. Similarly, text placement on a bar plot is more difficult, and most easily done using the index value of the bar where the text should be placed. Let's select data for the first week of May in 2017, for Sweden."
   ]
  },
  {
   "cell_type": "code",
   "execution_count": null,
   "metadata": {},
   "outputs": [],
   "source": [
    "# Define time range\n",
    "temps_May_week1 = temps_2017.loc[(temps_2017.index >= \"2017-05-01\") & (temps_2017.index <= \"2017-05-07\")]\n",
    "\n",
    "# Create bar plot\n",
    "ax = temps_May_week1.plot(\n",
    "    kind=\"bar\",\n",
    "    title=\"Temperature in the first week of May in Sweden \",\n",
    "    xlabel=\"Date\",\n",
    "    ylabel=\"Temperature [°c]\",\n",
    "    figsize=(12, 6),\n",
    "    ylim=[-5, 15])\n",
    "\n",
    "# Add plot text\n",
    "#ax.text(0, 42.1, \"Coldest \\ntemp \\nv\")"
   ]
  },
  {
   "cell_type": "markdown",
   "metadata": {},
   "source": [
    "You can find more about how to format bar charts on the [pandas documentation website](https://pandas.pydata.org/pandas-docs/stable/reference/api/pandas.DataFrame.plot.bar.html)."
   ]
  },
  {
   "cell_type": "markdown",
   "metadata": {},
   "source": [
    "## Saving your plots as image files\n",
    "\n",
    "Saving plots created using pandas can be done in several ways. The recommendation for use outside of Jupyter notebooks is to use Matplotlib's `plt.savefig()` function. When using `plt.savefig()`, you simply give a list of commands to generate a plot and include `plt.savefig()` with some parameters as the last command in the Python cell. The file name is required, and the image format will be determined based on the listed file extension. Note that because we have not used Matplotlib for any of the earlier plots, we need to import it here first.\n",
    "\n",
    "Matplotlib plots can be saved in a number of useful file formats, including PNG, PDF, and EPS. PNG is a nice format for raster images, and EPS is probably easiest to use for vector graphics. Let's check out an example and save our lovely bar plot."
   ]
  },
  {
   "cell_type": "code",
   "execution_count": null,
   "metadata": {},
   "outputs": [],
   "source": [
    "# Import matplotlib\n",
    "import matplotlib.pyplot as plt\n",
    "temps_May_week1 = temps_2017.loc[(temps_2017.index >= \"2017-05-01\") & (temps_2017.index <= \"2017-05-07\")]\n",
    "\n",
    "# Create bar plot\n",
    "ax = temps_May_week1.plot(\n",
    "    kind=\"bar\",\n",
    "    title=\"Temperature for the first week of May in the Nordic countries in 2017\",\n",
    "    xlabel=\"Date\",\n",
    "    ylabel=\"Temperature [°c]\",\n",
    "    figsize=(12, 6),\n",
    "    ylim=[-25, 15])\n",
    "\n",
    "# Save plot to file\n",
    "plt.savefig(\"bar-plot.png\")"
   ]
  },
  {
   "cell_type": "markdown",
   "metadata": {},
   "source": [
    "If you refresh your **Files** tab on the left side of the JupyterLab window you should now see `bar-plot.png` listed.\n",
    "We could try to save another version in higher resolution with a minor change to our plot commands above."
   ]
  },
  {
   "cell_type": "code",
   "execution_count": null,
   "metadata": {},
   "outputs": [],
   "source": [
    "# Create bar plot\n",
    "temps_May_week1 = temps_2017.loc[(temps_2017.index >= \"2017-05-01\") & (temps_2017.index <= \"2017-05-07\")]\n",
    "\n",
    "# Create bar plot\n",
    "ax = temps_May_week1.plot(\n",
    "    kind=\"bar\",\n",
    "    title=\"Temperature for the first week of May in the Nordic countries in 2017\",\n",
    "    xlabel=\"Date\",\n",
    "    ylabel=\"Temperature [°c]\",\n",
    "    figsize=(12, 6),\n",
    "    ylim=[-25, 15])\n",
    "\n",
    "\n",
    "# Save plot to file (high resolution, PDF)\n",
    "plt.savefig(\"bar-plot-hi-res.pdf\", dpi=600)"
   ]
  },
  {
   "cell_type": "code",
   "execution_count": null,
   "metadata": {},
   "outputs": [],
   "source": []
  }
 ],
 "metadata": {
  "kernelspec": {
   "display_name": "Python 3 (ipykernel)",
   "language": "python",
   "name": "python3"
  },
  "language_info": {
   "codemirror_mode": {
    "name": "ipython",
    "version": 3
   },
   "file_extension": ".py",
   "mimetype": "text/x-python",
   "name": "python",
   "nbconvert_exporter": "python",
   "pygments_lexer": "ipython3",
   "version": "3.11.7"
  }
 },
 "nbformat": 4,
 "nbformat_minor": 4
}
