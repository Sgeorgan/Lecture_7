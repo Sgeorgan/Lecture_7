{
 "cells": [
  {
   "cell_type": "markdown",
   "metadata": {},
   "source": [
    "# Basic plotting with pandas and Matplotlib\n",
    "\n",
    "### Sources\n",
    "\n",
    "This lesson is inspired by the [Programming in Python lessons](http://swcarpentry.github.io/python-novice-inflammation/) from the [Software Carpentry organization](http://software-carpentry.org) and has adapted or reused material from University of Helsinki Geo-python course (https://geo-python-site.readthedocs.io/en/latest/course-info/licensing.html ) under a Creative Commons Attribution-ShareAlike 4.0 International licence (https://creativecommons.org/licenses/by-sa/4.0/deed.en). \n"
   ]
  },
  {
   "cell_type": "markdown",
   "metadata": {},
   "source": [
    "### Plotting in Python \n",
    "\n",
    "![The visualization scene in Python](https://rougier.github.io/python-visualization-landscape/landscape-colors.png)\n",
    "\n",
    "[Source](https://pyviz.org/overviews/index.html)\r\n",
    "\r\n"
   ]
  },
  {
   "cell_type": "markdown",
   "metadata": {},
   "source": [
    "Python boasts a plethora of excellent libraries for data visualization. The diagram illustrates various available plotting libraries and their interrelationships. Among these, we particularly recommend:\n",
    "\n",
    "- [**Matplotlib**](https://matplotlib.org): Often hailed as the foundational plotting library in Python, Matplotlib offers extensive options for creating static, animated, and interactive plots. Explore diverse visualizations in the [Matplotlib Gallery](https://matplotlib.org/stable/gallery/index.html).\n",
    "\n",
    "- [**Matplotlib Basemap Toolkit**](https://matplotlib.org/basemap/): This Matplotlib plugin enables easy map plotting. However, it's worth noting that Basemap is being deprecated in favor of [**Cartopy**](https://scitools.org.uk/cartopy/docs/latest/gallery/index.html), which offers advanced map-making capabilities.\n",
    "\n",
    "- [**Seaborn**](https://seaborn.pydata.org): Built on Matplotlib, Seaborn simplifies the creation of beautiful statistical graphics. Find inspiration in the [Seaborn Gallery](https://seaborn.pydata.org/examples/index.html).\n",
    "\n",
    "- [**Bokeh**](https://bokeh.org): For modern, interactive web-based plots, Bokeh is a fantastic choice. It supports a wide range of visualization types, as seen in the [Bokeh Gallery](https://docs.bokeh.org/en/latest/docs/gallery.html).\n",
    "\n",
    "- [**Plotly**](https://plotly.com/python/): Plotly offers similar capabilities to Bokeh, with additional features for creating sophisticated interactive web-based visualizations. Some functionalities are premium. Explore the [Plotly Gallery](https://plotly.com/python/).\n",
    "\n",
    "- [**Dash**](https://plotly.com/dash/): This framework is designed for building analytical web applications entirely in Python, eliminating the need for JavaScript.\n",
    "\n",
    "- [**ggplot**](http://yhat.github.io/ggpy/): Inspired by the R library ggplot2, ggplot for Python allows R users to apply familiar plotting concepts in Python. Check out [ggplot examples](http://yhat.github.io/ggpy/).\n",
    "\n",
    "- [**HoloViews**](http://holoviews.org) and [**GeoViews**](http://geoviews.org): These libraries focus on letting the data visualize itself, with HoloViews tailored for basic plotting ([HoloViews tutorial and examples](http://holoviews.org/Tutorials/index.html)) and GeoViews for creating interactive maps ([GeoViews Gallery](http://geoviews.org/gallery/index.html)).\n",
    "\n",
    "Leveraging these libraries can significantly expedite and enhance your data exploration and visualization tasks, offering everything from basic plots to advanced interactive web applications.\n"
   ]
  },
  {
   "cell_type": "markdown",
   "metadata": {},
   "source": [
    "### Anatomy of a Plot\n",
    "\n",
    "Understanding the anatomy of a plot is crucial before diving into data visualization. Although this guide won't cover the intricacies of various plot types, it aims to introduce the basic components common across many plots and the diverse range of plots available for representing data characteristics using Python.\n",
    "\n",
    "#### Common Plot Types\n",
    "\n",
    "Python supports a multitude of plot types, each designed for distinct data representation needs. Below are some widely used plot types, along with links to their Wikipedia entries for further exploration:\n",
    "\n",
    "- [Bar Chart](https://en.wikipedia.org/wiki/Bar_chart): Useful for comparing quantities across different categories.\n",
    "- [Histogram](https://en.wikipedia.org/wiki/Histogram): Ideal for visualizing the distribution of numerical data.\n",
    "- [Scatter Plot](https://en.wikipedia.org/wiki/Scatter_plot): Excellent for examining the relationship between two variables.\n",
    "- [Line Chart](https://en.wikipedia.org/wiki/Line_chart): Effective for displaying data trends over time.\n",
    "- [Pie Chart](https://en.wikipedia.org/wiki/Pie_chart): Suitable for showing the relative proportions of parts to a whole.\n",
    "- [Box Plot](https://en.wikipedia.org/wiki/Box_plot): Used for depicting groups of numerical data through their quartiles.\n",
    "- [Violin Plot](https://en.wikipedia.org/wiki/Violin_plot): Combines a box plot with a kernel density plot, ideal for comparing distribution shapes.\n",
    "- [Dendrogram](https://en.wikipedia.org/wiki/Dendrogram): A tree-like diagram used to illustrate the arrangement of the clusters produced by hierarchical clustering.\n",
    "- [Chord Diagram](https://en.wikipedia.org/wiki/Chord_diagram): Useful for displaying the inter-relationships between data in a matrix format.\n",
    "- [Treemap](https://en.wikipedia.org/wiki/Treemapping): Ideal for visualizing hierarchical data using nested rectangles.\n",
    "- [Network Chart](https://en.wikipedia.org/wiki/Graph_drawing): Visualizes relationships and flows between interconnected entities.\n",
    "\n",
    "#### Essential Elements of a Plot\n",
    "\n",
    "Despite the vast array of plot types, most share certain foundational elements. Familiarity with these elements simplifies the creation and customization of plots, making it easier to communicate your data's story effectively. These elements include axes (x-axis and y-axis), data points, legends, titles, and more. While specific features may vary between different plot types, understanding these common components is invaluable for anyone working in data visualization.\n",
    "\n",
    "For a basic understanding of a plot's structure, consider a simple line chart, which typically features an x-axis, y-axis, data points connected by lines, and often a legend to clarify the data's meaning. This foundation applies broadly, helping guide the visualization process across various plot types.\n"
   ]
  },
  {
   "cell_type": "markdown",
   "metadata": {},
   "source": [
    "\n",
    "In this lesson we will use climate data from Nordic countries between 2015-2019. The dataset is available in Kaggle.\n",
    "\n",
    "\n"
   ]
  },
  {
   "cell_type": "markdown",
   "metadata": {},
   "source": [
    "## Getting started\n",
    "\n",
    "Let's start by importing Pandas and reading our data file."
   ]
  },
  {
   "cell_type": "code",
   "execution_count": null,
   "metadata": {},
   "outputs": [],
   "source": [
    "import pandas as pd\n",
    "import matplotlib.pyplot as plt"
   ]
  },
  {
   "cell_type": "markdown",
   "metadata": {},
   "source": [
    "\n",
    "\n",
    "Just as we did last week, we'll read our data file by passing a few parameters to the Pandas `read_csv()` function. In this case, however, we'll include a few additional parameters in order to read the data with a *datetime index*. Let's read the data first, then see what happened."
   ]
  },
  {
   "cell_type": "code",
   "execution_count": null,
   "metadata": {
    "tags": [
     "hide-cell"
    ]
   },
   "outputs": [],
   "source": [
    "\n",
    "# define path to file\n",
    "fp = r\"nordics_weather.csv\""
   ]
  },
  {
   "cell_type": "code",
   "execution_count": null,
   "metadata": {},
   "outputs": [],
   "source": [
    "data = pd.read_csv(\n",
    "    fp,\n",
    "    na_values=[\"*\", \"**\", \"***\", \"****\", \"*****\", \"******\"],\n",
    "    usecols=[\"country\", \"date\", \"precipitation\",\"snow_depth\", \"tavg\", \"tmax\", \"tmin\"],\n",
    "    parse_dates=[\"date\"],\n",
    "    index_col=\"date\",\n",
    ")"
   ]
  },
  {
   "cell_type": "markdown",
   "metadata": {},
   "source": [
    "So what's different here? Well, we have added two new parameters: `parse_dates` and `index_col`.\n",
    "\n",
    "- `parse_dates` takes a Python list of column name(s) containing date data that Pandas will parse and convert to the *datetime* data type. For many common date formats this parameter will automatically recognize and convert the date data.\n",
    "- `index_col` is used to state a column that should be used to index the data in the DataFrame. In this case, we end up with our date data as the DataFrame index. This is a very useful feature in Pandas as we'll see below.\n",
    "\n",
    "Having read in the data, let's have a quick look at what we have using `data.head()`."
   ]
  },
  {
   "cell_type": "code",
   "execution_count": null,
   "metadata": {},
   "outputs": [],
   "source": [
    "data.head()"
   ]
  },
  {
   "cell_type": "markdown",
   "metadata": {},
   "source": [
    "As mentioned above, you can now see that the index column for our DataFrame (the first column) contains date values related to each row in the DataFrame."
   ]
  },
  {
   "cell_type": "markdown",
   "metadata": {},
   "source": [
    "## Basic x-y plot\n",
    "\n",
    "Now we're ready for our first plot. We can start by using the basic line plot in Pandas to look at our temperature data."
   ]
  },
  {
   "cell_type": "code",
   "execution_count": null,
   "metadata": {},
   "outputs": [],
   "source": [
    "\n",
    "ax = data.plot()"
   ]
  },
  {
   "cell_type": "markdown",
   "metadata": {},
   "source": [
    "If all goes well, you should see the plot above.\n",
    "\n",
    "OK, so what happened here?\n",
    "\n",
    "1. We first created the plot object using the `plot()` method of the `data` DataFrame. Without any parameters given, this makes the plot of all columns in the DataFrame as lines of different color on the y-axis with the index, time in this case, on the x-axis.\n",
    "2. In case we want to be able to modify the plot or add anything, we assign the plot object to the variable `ax`. We can check its type below.\n",
    "\n",
    "In fact, let's check the type of the `ax` variable now."
   ]
  },
  {
   "cell_type": "code",
   "execution_count": null,
   "metadata": {},
   "outputs": [],
   "source": [
    "type(ax)"
   ]
  },
  {
   "cell_type": "markdown",
   "metadata": {},
   "source": [
    "OK, so it looks like we have some kind of plot data type that is part of Matplotlib. Clearly, pandas is using Matplotlib for generating our plots.\n",
    "\n",
    "### Selecting our plotted data\n",
    "\n",
    "Now, let's make a few small changes to our plot and plot the data again. First, let's only plot the observed temperatures in the `data['tavg']` column, and let's restrict ourselves to observations from 2017 and onwards in Sweden. We can do this by selecting the desired data column and date range first, then plotting our selection."
   ]
  },
  {
   "cell_type": "code",
   "execution_count": null,
   "metadata": {},
   "outputs": [],
   "source": [
    "\n",
    "temps_2017 = data.loc[(data.index >= \"01-01-2017\") & (data['country'] == \"Sweden\"), [\"tavg\", \"country\"]]\n",
    "ax = temps_2017.plot()"
   ]
  },
  {
   "cell_type": "code",
   "execution_count": null,
   "metadata": {},
   "outputs": [],
   "source": [
    "temps_2017 = data.loc[(data.index >= \"2017-01-01\") & (data['country'] == \"Sweden\"), [\"tavg\", \"country\"]]\n",
    "ax = temps_2017.plot()"
   ]
  },
  {
   "cell_type": "markdown",
   "metadata": {},
   "source": [
    "So, what did we change?\n",
    "\n",
    "1. Well, we selected only the `'tavg'` and `'country'` columns now.\n",
    "2. We've added a restriction to the date range using `loc[]` to select only rows where the index value `data.index` is greater than `'2017-01-01'`.\n",
    "3. By saving this selection to the DataFrame `temps_2017` we're able to now use `temps_2017.plot()` to plot only our selection. This is cool, but we can do even better..."
   ]
  },
  {
   "cell_type": "markdown",
   "metadata": {},
   "source": [
    "## Basic plot formatting\n",
    "\n",
    "We can make our plot look a bit nicer and provide more information by using a few additional plotting options to pandas/Matplotlib."
   ]
  },
  {
   "cell_type": "code",
   "execution_count": null,
   "metadata": {},
   "outputs": [],
   "source": [
    "# Change line and symbol format, and add axis labels/title\n",
    "ax = temps_2017.plot(\n",
    "    style='r',\n",
    "    title=\"Average temperature in Sweden countries between 2017-2019\",\n",
    "    xlabel=\"Date\",\n",
    "    ylabel=\"Temperature [°C]\",\n",
    ")"
   ]
  },
  {
   "cell_type": "markdown",
   "metadata": {},
   "source": [
    "Now we see our temperature data as a red  line.\n",
    "This comes from the additional `style='r'` used with `oct1_temps.plot()`.\n",
    "In this case, `r` tells the `oct1_temps.plot()` function to use red color for the lines and symbols.\n",
    "You can use `help(oct1_temps.plot)` to find out more about formatting plots or have a look at the [documentation on the pandas website](https://pandas.pydata.org/pandas-docs/stable/reference/api/pandas.DataFrame.plot.line.html#pandas.DataFrame.plot.line) and [matplotlib pyplot](https://matplotlib.org/stable/api/_as_gen/matplotlib.pyplot.plot.html#matplotlib.pyplot.plot)\n",
    "We have also added a title using the `title` parameter, and axis labels using the `xlabel` and `ylabel` parameters."
   ]
  },
  {
   "cell_type": "code",
   "execution_count": null,
   "metadata": {},
   "outputs": [],
   "source": [
    "help(temps_2017.plot)"
   ]
  },
  {
   "cell_type": "markdown",
   "metadata": {},
   "source": [
    "### Embiggening\\* the plot\n",
    "\n",
    "While the plot sizes we're working with are OK, it would be nice to have them displayed a bit larger.\n",
    "Fortunately, there is an easy way to make the plots larger in pandas/Matplotlib.\n",
    "We can simply add the `figsize` parameter with the desired figure size listed as a tuple (a set of values in normal parentheses) that lists the width and height of the figure (in inches!)."
   ]
  },
  {
   "cell_type": "code",
   "execution_count": null,
   "metadata": {},
   "outputs": [],
   "source": [
    "# Adjust the figure size\n",
    "ax = temps_2017.plot(\n",
    "    style='r',\n",
    "    title=\"Average temperature in Sweden between 2017-2019\",\n",
    "    xlabel=\"Date\",\n",
    "    ylabel=\"Temperature [°F]\",\n",
    "    figsize=(12, 6),\n",
    ")"
   ]
  },
  {
   "cell_type": "markdown",
   "metadata": {},
   "source": [
    "The cell above sets the default plot size to be 12 inches wide by 6 inches tall.\n",
    "Feel free to change these values if you prefer.\n",
    "\n",
    "```{note}\n",
    "It is also possible to change the default figure size for all figures in a Jupyter Notebook by importing the pyplot module from matplotlib (i.e., `import matplotlib.pyplot as plt`)and then defining the default figure size using `plt.rcParams['figure.figsize'] = [12, 6]`. In this case the figure size should be given as a Python list.\n",
    "```\n"
   ]
  },
  {
   "cell_type": "markdown",
   "metadata": {},
   "source": [
    "### Other common plot formatting operations\n",
    "\n",
    "#### Adding text to the plot\n",
    "\n",
    "Adding text to plots can be done using `ax.text()`.\n",
    "\n",
    "```python\n",
    "ax.text(x, y, 'Text to display')\n",
    "```\n",
    "\n",
    "This would display \"Text to display\" at the location *x*, *y* on the plot.\n",
    "We'll see how to do this in a live example in just a second.\n",
    "\n",
    "#### Changing the axis ranges\n",
    "\n",
    "Changing the plot axes can be done using the `xlim` and `ylim` parameters of the `plot()` function\n",
    "\n",
    "```python\n",
    "df.plot(xlim=[xmin, xmax], ylim=[ymin, ymax])\n",
    "```\n",
    "\n",
    "where `xmin` should be the minimum bound of the x-axis, `xmax` should be the maximum bound, and the same goes for the y-axis with `ymin` and `ymax`.\n"
   ]
  },
  {
   "cell_type": "code",
   "execution_count": null,
   "metadata": {},
   "outputs": [],
   "source": [
    "# Define the start, end, and cold times\n",
    "start_time = (\"08-01-2017\")\n",
    "end_time = pd.to_datetime(\"08-31-2017\")\n",
    "#cold_time=pd.to_datetime(\"08-25-2017\")\n",
    "cold_time=pd.to_datetime(\"2017-08-25\")\n",
    "\n",
    "# Create the plot, including the axis limits\n",
    "\n",
    "ax = temps_2017.plot(\n",
    "    style='r',\n",
    "    title=\"Average temperature in Sweden in August 2017\",\n",
    "    xlabel=\"Date\",\n",
    "    ylabel=\"Temperature [°C]\",\n",
    "    figsize=(12, 6),\n",
    "    xlim=[start_time, end_time],\n",
    "    ylim=[-15.0, 25.0],\n",
    ")\n",
    "\n",
    "\n",
    "# Add text to display the coldest temperature\n",
    "ax.text(cold_time, 10.5, \"<- Coldest temperature in August\")"
   ]
  },
  {
   "cell_type": "markdown",
   "metadata": {},
   "source": [
    "### Check your understanding\n",
    "\n",
    "Create a line plot similar to our examples above with the following attributes:\n",
    "    \n",
    "- Average temperature in Nordic countries in February 2017\n",
    "- A dotted black line connecting the observations (do not show the data points)\n"
   ]
  },
  {
   "cell_type": "code",
   "execution_count": null,
   "metadata": {
    "tags": [
     "hide-cell"
    ]
   },
   "outputs": [],
   "source": [
    "# Solution\n",
    "# Define start, end, and cold times\n",
    "start_time = pd.to_datetime(\"01-02-2017\")\n",
    "end_time = pd.to_datetime(\"28-02-2017\")\n",
    "warm_time=pd.to_datetime(\"2017-02-19\")\n",
    "\n",
    "# Create the plot, including the axis limits\n",
    "\n",
    "ax = temps_2017.plot(\n",
    "    style=\"k:\",\n",
    "    title=\"Average temperature in Sweden in February 2017\",\n",
    "    xlabel=\"Date\",\n",
    "    ylabel=\"Temperature [°C]\",\n",
    "    figsize=(12, 6),\n",
    "    xlim=[start_time, end_time],\n",
    "    ylim=[-25.0, 10.0],\n",
    ")\n",
    "\n",
    "# Display text on plot\n",
    "ax.text(warm_time, 3, \"<- Warmest temperature in February\")"
   ]
  },
  {
   "cell_type": "markdown",
   "metadata": {},
   "source": [
    "## Bar plots in pandas\n",
    "\n",
    "In addition to line plots, there are many other options for plotting in pandas. Bar plots are one option, which can be used quite similarly to line plots with the addition of the `kind=bar` parameter. Note that it is easiest to plot our selected time range for a bar plot by selecting the dates in our data series first, rather than adjusting the plot limits. pandas sees bar plot data as categorical, so the date range is more difficult to define for x-axis limits. For the y-axis, we can still define its range using the `ylim=[ymin, ymax]` parameter. Similarly, text placement on a bar plot is more difficult, and most easily done using the index value of the bar where the text should be placed. Let's select data for the first week of May in 2017, for Sweden."
   ]
  },
  {
   "cell_type": "code",
   "execution_count": null,
   "metadata": {},
   "outputs": [],
   "source": [
    "# Define time range\n",
    "temps_May_week1 = temps_2017.loc[(temps_2017.index >= \"2017-05-01\") & (temps_2017.index <= \"2017-05-07\")]\n",
    "\n",
    "# Create bar plot\n",
    "ax = temps_May_week1.plot(\n",
    "    kind=\"bar\",\n",
    "    title=\"Temperature in the first week of May in Sweden \",\n",
    "    xlabel=\"Date\",\n",
    "    ylabel=\"Temperature [°c]\",\n",
    "    figsize=(12, 6),\n",
    "    ylim=[-5, 15])\n",
    "\n",
    "# Add plot text\n",
    "#ax.text(0, 42.1, \"Coldest \\ntemp \\nv\")"
   ]
  },
  {
   "cell_type": "markdown",
   "metadata": {},
   "source": [
    "You can find more about how to format bar charts on the [pandas documentation website](https://pandas.pydata.org/pandas-docs/stable/reference/api/pandas.DataFrame.plot.bar.html)."
   ]
  },
  {
   "cell_type": "markdown",
   "metadata": {},
   "source": [
    "## Saving your plots as image files\n",
    "\n",
    "Saving plots created using pandas can be done in several ways. The recommendation for use outside of Jupyter notebooks is to use Matplotlib's `plt.savefig()` function. When using `plt.savefig()`, you simply give a list of commands to generate a plot and include `plt.savefig()` with some parameters as the last command in the Python cell. The file name is required, and the image format will be determined based on the listed file extension. Note that because we have not used Matplotlib for any of the earlier plots, we need to import it here first.\n",
    "\n",
    "Matplotlib plots can be saved in a number of useful file formats, including PNG, PDF, and EPS. PNG is a nice format for raster images, and EPS is probably easiest to use for vector graphics. Let's check out an example and save our lovely bar plot."
   ]
  },
  {
   "cell_type": "code",
   "execution_count": null,
   "metadata": {},
   "outputs": [],
   "source": [
    "# Import matplotlib\n",
    "import matplotlib.pyplot as plt\n",
    "temps_May_week1 = temps_2017.loc[(temps_2017.index >= \"2017-05-01\") & (temps_2017.index <= \"2017-05-07\")]\n",
    "\n",
    "# Create bar plot\n",
    "ax = temps_May_week1.plot(\n",
    "    kind=\"bar\",\n",
    "    title=\"Temperature for the first week of May in the Nordic countries in 2017\",\n",
    "    xlabel=\"Date\",\n",
    "    ylabel=\"Temperature [°c]\",\n",
    "    figsize=(12, 6),\n",
    "    ylim=[-5, 15])\n",
    "\n",
    "# Save plot to file\n",
    "plt.savefig(\"bar-plot.png\")"
   ]
  },
  {
   "cell_type": "markdown",
   "metadata": {},
   "source": [
    "If you refresh your **Files** tab on the left side of the JupyterLab window you should now see `bar-plot.png` listed.\n",
    "We could try to save another version in higher resolution with a minor change to our plot commands above."
   ]
  },
  {
   "cell_type": "code",
   "execution_count": null,
   "metadata": {},
   "outputs": [],
   "source": [
    "# Create bar plot\n",
    "temps_May_week1 = temps_2017.loc[(temps_2017.index >= \"2017-05-01\") & (temps_2017.index <= \"2017-05-07\")]\n",
    "\n",
    "# Create bar plot\n",
    "ax = temps_May_week1.plot(\n",
    "    kind=\"bar\",\n",
    "    title=\"Temperature for the first week of May in the Nordic countries in 2017\",\n",
    "    xlabel=\"Date\",\n",
    "    ylabel=\"Temperature [°c]\",\n",
    "    figsize=(12, 6),\n",
    "    ylim=[-25, 15])\n",
    "\n",
    "\n",
    "# Save plot to file (high resolution, PDF)\n",
    "plt.savefig(\"bar-plot-hi-res.pdf\", dpi=600)"
   ]
  },
  {
   "cell_type": "code",
   "execution_count": null,
   "metadata": {},
   "outputs": [],
   "source": []
  }
 ],
 "metadata": {
  "kernelspec": {
   "display_name": "Python 3 (ipykernel)",
   "language": "python",
   "name": "python3"
  },
  "language_info": {
   "codemirror_mode": {
    "name": "ipython",
    "version": 3
   },
   "file_extension": ".py",
   "mimetype": "text/x-python",
   "name": "python",
   "nbconvert_exporter": "python",
   "pygments_lexer": "ipython3",
   "version": "3.12.1"
  }
 },
 "nbformat": 4,
 "nbformat_minor": 4
}
